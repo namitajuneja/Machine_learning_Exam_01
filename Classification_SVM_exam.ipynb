{
 "cells": [
  {
   "cell_type": "markdown",
   "metadata": {},
   "source": [
    "# Classification: SVM\n"
   ]
  },
  {
   "cell_type": "code",
   "execution_count": 25,
   "metadata": {},
   "outputs": [],
   "source": [
    "import pandas as pd\n",
    "data = pd.read_csv('Dataset_v2.csv')"
   ]
  },
  {
   "cell_type": "code",
   "execution_count": 26,
   "metadata": {},
   "outputs": [
    {
     "data": {
      "text/html": [
       "<div>\n",
       "<style scoped>\n",
       "    .dataframe tbody tr th:only-of-type {\n",
       "        vertical-align: middle;\n",
       "    }\n",
       "\n",
       "    .dataframe tbody tr th {\n",
       "        vertical-align: top;\n",
       "    }\n",
       "\n",
       "    .dataframe thead th {\n",
       "        text-align: right;\n",
       "    }\n",
       "</style>\n",
       "<table border=\"1\" class=\"dataframe\">\n",
       "  <thead>\n",
       "    <tr style=\"text-align: right;\">\n",
       "      <th></th>\n",
       "      <th>Prev_Insured_binary</th>\n",
       "      <th>Vehicle_damage_binary</th>\n",
       "      <th>&lt; 1 Year</th>\n",
       "      <th>&gt; 2 Years</th>\n",
       "      <th>Age_scaled</th>\n",
       "      <th>Target</th>\n",
       "    </tr>\n",
       "  </thead>\n",
       "  <tbody>\n",
       "    <tr>\n",
       "      <th>0</th>\n",
       "      <td>0</td>\n",
       "      <td>1</td>\n",
       "      <td>0</td>\n",
       "      <td>0</td>\n",
       "      <td>0.369231</td>\n",
       "      <td>0</td>\n",
       "    </tr>\n",
       "    <tr>\n",
       "      <th>1</th>\n",
       "      <td>1</td>\n",
       "      <td>0</td>\n",
       "      <td>1</td>\n",
       "      <td>0</td>\n",
       "      <td>0.046154</td>\n",
       "      <td>0</td>\n",
       "    </tr>\n",
       "    <tr>\n",
       "      <th>2</th>\n",
       "      <td>0</td>\n",
       "      <td>1</td>\n",
       "      <td>0</td>\n",
       "      <td>0</td>\n",
       "      <td>0.353846</td>\n",
       "      <td>0</td>\n",
       "    </tr>\n",
       "    <tr>\n",
       "      <th>3</th>\n",
       "      <td>1</td>\n",
       "      <td>0</td>\n",
       "      <td>0</td>\n",
       "      <td>0</td>\n",
       "      <td>0.615385</td>\n",
       "      <td>0</td>\n",
       "    </tr>\n",
       "    <tr>\n",
       "      <th>4</th>\n",
       "      <td>0</td>\n",
       "      <td>1</td>\n",
       "      <td>0</td>\n",
       "      <td>0</td>\n",
       "      <td>0.338462</td>\n",
       "      <td>0</td>\n",
       "    </tr>\n",
       "  </tbody>\n",
       "</table>\n",
       "</div>"
      ],
      "text/plain": [
       "   Prev_Insured_binary  Vehicle_damage_binary  < 1 Year  > 2 Years  \\\n",
       "0                    0                      1         0          0   \n",
       "1                    1                      0         1          0   \n",
       "2                    0                      1         0          0   \n",
       "3                    1                      0         0          0   \n",
       "4                    0                      1         0          0   \n",
       "\n",
       "   Age_scaled  Target  \n",
       "0    0.369231       0  \n",
       "1    0.046154       0  \n",
       "2    0.353846       0  \n",
       "3    0.615385       0  \n",
       "4    0.338462       0  "
      ]
     },
     "execution_count": 26,
     "metadata": {},
     "output_type": "execute_result"
    }
   ],
   "source": [
    "data.head()"
   ]
  },
  {
   "cell_type": "code",
   "execution_count": 27,
   "metadata": {},
   "outputs": [
    {
     "name": "stdout",
     "output_type": "stream",
     "text": [
      "Target\n",
      "0    69878\n",
      "1    32473\n",
      "dtype: int64\n"
     ]
    },
    {
     "data": {
      "image/png": "[encoded data removed]",
      "text/plain": [
       "<Figure size 432x288 with 1 Axes>"
      ]
     },
     "metadata": {},
     "output_type": "display_data"
    }
   ],
   "source": [
    "#Print class freq. through pandas \n",
    "print(data.groupby('Target').size())\n",
    "\n",
    "#some imports to plot \n",
    "import matplotlib.pyplot as plt\n",
    "import seaborn as sns\n",
    "%matplotlib inline\n",
    "plt.style.use('ggplot')\n",
    "\n",
    "#Visualize Class Counts\n",
    "sns.countplot(y=data.Target ,data=data)\n",
    "plt.xlabel(\"count of each class\")\n",
    "plt.ylabel(\"classes\")\n",
    "plt.show()"
   ]
  },
  {
   "cell_type": "code",
   "execution_count": 28,
   "metadata": {},
   "outputs": [
    {
     "name": "stdout",
     "output_type": "stream",
     "text": [
      "<class 'pandas.core.frame.DataFrame'>\n",
      "RangeIndex: 102351 entries, 0 to 102350\n",
      "Data columns (total 6 columns):\n",
      " #   Column                 Non-Null Count   Dtype  \n",
      "---  ------                 --------------   -----  \n",
      " 0   Prev_Insured_binary    102351 non-null  int64  \n",
      " 1   Vehicle_damage_binary  102351 non-null  int64  \n",
      " 2   < 1 Year               102351 non-null  int64  \n",
      " 3   > 2 Years              102351 non-null  int64  \n",
      " 4   Age_scaled             102351 non-null  float64\n",
      " 5   Target                 102351 non-null  int64  \n",
      "dtypes: float64(1), int64(5)\n",
      "memory usage: 4.7 MB\n"
     ]
    }
   ],
   "source": [
    "#gives information about the data types,columns, null value counts, memory usage etc\n",
    "data.info(verbose=True)"
   ]
  },
  {
   "cell_type": "code",
   "execution_count": 29,
   "metadata": {},
   "outputs": [
    {
     "data": {
      "text/html": [
       "<div>\n",
       "<style scoped>\n",
       "    .dataframe tbody tr th:only-of-type {\n",
       "        vertical-align: middle;\n",
       "    }\n",
       "\n",
       "    .dataframe tbody tr th {\n",
       "        vertical-align: top;\n",
       "    }\n",
       "\n",
       "    .dataframe thead th {\n",
       "        text-align: right;\n",
       "    }\n",
       "</style>\n",
       "<table border=\"1\" class=\"dataframe\">\n",
       "  <thead>\n",
       "    <tr style=\"text-align: right;\">\n",
       "      <th></th>\n",
       "      <th>Prev_Insured_binary</th>\n",
       "      <th>Vehicle_damage_binary</th>\n",
       "      <th>&lt; 1 Year</th>\n",
       "      <th>&gt; 2 Years</th>\n",
       "      <th>Age_scaled</th>\n",
       "      <th>Target</th>\n",
       "    </tr>\n",
       "  </thead>\n",
       "  <tbody>\n",
       "    <tr>\n",
       "      <th>count</th>\n",
       "      <td>102351.000000</td>\n",
       "      <td>102351.000000</td>\n",
       "      <td>102351.000000</td>\n",
       "      <td>102351.000000</td>\n",
       "      <td>102351.000000</td>\n",
       "      <td>102351.000000</td>\n",
       "    </tr>\n",
       "    <tr>\n",
       "      <th>mean</th>\n",
       "      <td>0.356938</td>\n",
       "      <td>0.611093</td>\n",
       "      <td>0.370070</td>\n",
       "      <td>0.054821</td>\n",
       "      <td>0.305651</td>\n",
       "      <td>0.317271</td>\n",
       "    </tr>\n",
       "    <tr>\n",
       "      <th>std</th>\n",
       "      <td>0.479099</td>\n",
       "      <td>0.487504</td>\n",
       "      <td>0.482825</td>\n",
       "      <td>0.227632</td>\n",
       "      <td>0.229781</td>\n",
       "      <td>0.465416</td>\n",
       "    </tr>\n",
       "    <tr>\n",
       "      <th>min</th>\n",
       "      <td>0.000000</td>\n",
       "      <td>0.000000</td>\n",
       "      <td>0.000000</td>\n",
       "      <td>0.000000</td>\n",
       "      <td>0.000000</td>\n",
       "      <td>0.000000</td>\n",
       "    </tr>\n",
       "    <tr>\n",
       "      <th>25%</th>\n",
       "      <td>0.000000</td>\n",
       "      <td>0.000000</td>\n",
       "      <td>0.000000</td>\n",
       "      <td>0.000000</td>\n",
       "      <td>0.076923</td>\n",
       "      <td>0.000000</td>\n",
       "    </tr>\n",
       "    <tr>\n",
       "      <th>50%</th>\n",
       "      <td>0.000000</td>\n",
       "      <td>1.000000</td>\n",
       "      <td>0.000000</td>\n",
       "      <td>0.000000</td>\n",
       "      <td>0.292308</td>\n",
       "      <td>0.000000</td>\n",
       "    </tr>\n",
       "    <tr>\n",
       "      <th>75%</th>\n",
       "      <td>1.000000</td>\n",
       "      <td>1.000000</td>\n",
       "      <td>1.000000</td>\n",
       "      <td>0.000000</td>\n",
       "      <td>0.461538</td>\n",
       "      <td>1.000000</td>\n",
       "    </tr>\n",
       "    <tr>\n",
       "      <th>max</th>\n",
       "      <td>1.000000</td>\n",
       "      <td>1.000000</td>\n",
       "      <td>1.000000</td>\n",
       "      <td>1.000000</td>\n",
       "      <td>1.000000</td>\n",
       "      <td>1.000000</td>\n",
       "    </tr>\n",
       "  </tbody>\n",
       "</table>\n",
       "</div>"
      ],
      "text/plain": [
       "       Prev_Insured_binary  Vehicle_damage_binary       < 1 Year  \\\n",
       "count        102351.000000          102351.000000  102351.000000   \n",
       "mean              0.356938               0.611093       0.370070   \n",
       "std               0.479099               0.487504       0.482825   \n",
       "min               0.000000               0.000000       0.000000   \n",
       "25%               0.000000               0.000000       0.000000   \n",
       "50%               0.000000               1.000000       0.000000   \n",
       "75%               1.000000               1.000000       1.000000   \n",
       "max               1.000000               1.000000       1.000000   \n",
       "\n",
       "           > 2 Years     Age_scaled         Target  \n",
       "count  102351.000000  102351.000000  102351.000000  \n",
       "mean        0.054821       0.305651       0.317271  \n",
       "std         0.227632       0.229781       0.465416  \n",
       "min         0.000000       0.000000       0.000000  \n",
       "25%         0.000000       0.076923       0.000000  \n",
       "50%         0.000000       0.292308       0.000000  \n",
       "75%         0.000000       0.461538       1.000000  \n",
       "max         1.000000       1.000000       1.000000  "
      ]
     },
     "execution_count": 29,
     "metadata": {},
     "output_type": "execute_result"
    }
   ],
   "source": [
    "#basic statistic details about the data\n",
    "data.describe(include=\"all\")"
   ]
  },
  {
   "cell_type": "code",
   "execution_count": 30,
   "metadata": {},
   "outputs": [],
   "source": [
    "#Separate X and y (explanatory variables and target variable)\n",
    "X = data.iloc[:,0:-1]\n",
    "column_names = list(X) \n",
    "y = data.iloc[:,-1] \n",
    "\n",
    "#X.head()\n",
    "#y.head()"
   ]
  },
  {
   "cell_type": "code",
   "execution_count": 31,
   "metadata": {},
   "outputs": [
    {
     "name": "stdout",
     "output_type": "stream",
     "text": [
      "(81880, 5)\n"
     ]
    }
   ],
   "source": [
    "from sklearn.model_selection import train_test_split\n",
    "\n",
    "#SPLIT DATA INTO TRAIN AND TEST SET\n",
    "X_train, X_test, y_train, y_test = train_test_split(X, y,  #X_scaled\n",
    "                                                    test_size =0.20, #by default is 75%-25%\n",
    "                                                    #shuffle is set True by default,\n",
    "                                                    stratify=y,\n",
    "                                                    random_state= 123) #fix random seed for replicability\n",
    "\n",
    "print(X_train.shape)"
   ]
  },
  {
   "cell_type": "markdown",
   "metadata": {},
   "source": [
    "## SVM"
   ]
  },
  {
   "cell_type": "markdown",
   "metadata": {},
   "source": [
    "![SVM](SVM.png)\n",
    "\n",
    "We aim to resolve the following optimization problem:\n",
    "\n",
    "\\begin{align}\\begin{aligned}\\min_ {w, b, d} \\frac{1}{2} ||w||^2 + C \\sum_{i=1}^{m} d_i\\\\\\begin{split}\\textrm {subject to } & y_i (w^T \\phi (x_i) - b) \\geq 1 - d_i,\\\\\n",
    "& d_i \\geq 0\\end{split}\\end{aligned}\\end{align}\n",
    "\n",
    "where $\\phi$ is the kernel map that can be chosen as \n",
    " - linear: $\\langle x, x'\\rangle$\n",
    " - polynomial: $(\\gamma \\langle x, x'\\rangle + r)^d$ where $\\gamma,\\, d ,\\, r$ are specified by keyword gamma, degree and coef0 respectively.\n",
    " - radial basis function rbf: $\\exp(-\\gamma \\|x-x'\\|^2)$\n",
    " - neural networks (sigmoid): $\\tanh(\\gamma \\langle x,x'\\rangle + r)$"
   ]
  },
  {
   "cell_type": "code",
   "execution_count": 32,
   "metadata": {},
   "outputs": [],
   "source": [
    "from sklearn.svm import SVC\n",
    "\n",
    "model = SVC(kernel='linear',C=1)\n",
    "\n",
    "\n",
    "# C : Penalty parameter C of the error term.\n",
    "# kernel : kernel type. It must be one of ‘linear’, ‘poly’, ‘rbf’, ‘sigmoid’, ‘precomputed’ or a callable. If none is given, ‘rbf’ will be used. If a callable is given it is used to pre-compute the kernel matrix from data matrices; that matrix should be an array of shape (n_samples, n_samples).\n",
    "# degree : Degree of the polynomial kernel function (‘poly’)\n",
    "# gamma : Kernel coefficient for ‘rbf’, ‘poly’ and ‘sigmoid’.\n",
    "# coef0 : Independent term in kernel function.\n",
    "# tol : Tolerance for stopping criterion.\n",
    "# class_weight : Set the parameter C of class i to class_weight[i]*C for SVC."
   ]
  },
  {
   "cell_type": "code",
   "execution_count": 33,
   "metadata": {},
   "outputs": [
    {
     "data": {
      "text/plain": [
       "array([0, 0, 0, ..., 0, 0, 0], dtype=int64)"
      ]
     },
     "execution_count": 33,
     "metadata": {},
     "output_type": "execute_result"
    }
   ],
   "source": [
    "model.fit(X_train, y_train)\n",
    "model.predict(X_test)"
   ]
  },
  {
   "cell_type": "code",
   "execution_count": 34,
   "metadata": {},
   "outputs": [],
   "source": [
    "#DEFINE YOUR CLASSIFIER and THE PARAMETERS GRID\n",
    "from sklearn.svm import SVC\n",
    "\n",
    "classifier = SVC()\n",
    "parameters = {\"kernel\":['linear','rbf','polinomial'], \"C\":[0.1,1,100],\"gamma\":[1], \"degree\":[2,3,4]}"
   ]
  },
  {
   "cell_type": "code",
   "execution_count": 35,
   "metadata": {},
   "outputs": [],
   "source": [
    "#DEFINE YOUR GRIDSEARCH \n",
    "'''\n",
    "GS perfoms an exhaustive search over specified parameter values for an estimator.\n",
    "GS uses a Stratified K-Folds cross-validator\n",
    "(The folds are made by preserving the percentage of samples for each class.)\n",
    "If refit=True the model is retrained on the whole training set with the best found params\n",
    "'''\n",
    "from sklearn.model_selection import GridSearchCV\n",
    "gs = GridSearchCV(classifier, parameters, scoring = 'f1', verbose=50, n_jobs=-1, refit=True)"
   ]
  },
  {
   "cell_type": "code",
   "execution_count": 36,
   "metadata": {},
   "outputs": [
    {
     "name": "stdout",
     "output_type": "stream",
     "text": [
      "Fitting 5 folds for each of 27 candidates, totalling 135 fits\n",
      "[Parallel(n_jobs=-1)]: Using backend LokyBackend with 8 concurrent workers.\n",
      "[Parallel(n_jobs=-1)]: Done   1 tasks      | elapsed:  4.2min\n",
      "[Parallel(n_jobs=-1)]: Done   2 tasks      | elapsed:  4.3min\n",
      "[Parallel(n_jobs=-1)]: Done   3 tasks      | elapsed:  4.3min\n",
      "[Parallel(n_jobs=-1)]: Done   4 tasks      | elapsed:  4.3min\n",
      "[Parallel(n_jobs=-1)]: Done   5 tasks      | elapsed:  4.3min\n",
      "[Parallel(n_jobs=-1)]: Done   6 tasks      | elapsed:  4.3min\n",
      "[Parallel(n_jobs=-1)]: Done   7 tasks      | elapsed:  4.3min\n",
      "[Parallel(n_jobs=-1)]: Done   8 tasks      | elapsed:  4.3min\n",
      "[Parallel(n_jobs=-1)]: Done   9 tasks      | elapsed:  4.3min\n",
      "[Parallel(n_jobs=-1)]: Done  10 tasks      | elapsed:  4.3min\n",
      "[Parallel(n_jobs=-1)]: Done  11 tasks      | elapsed:  7.1min\n",
      "[Parallel(n_jobs=-1)]: Done  12 tasks      | elapsed:  7.1min\n",
      "[Parallel(n_jobs=-1)]: Done  13 tasks      | elapsed:  7.2min\n",
      "[Parallel(n_jobs=-1)]: Done  14 tasks      | elapsed:  8.0min\n",
      "[Parallel(n_jobs=-1)]: Done  15 tasks      | elapsed:  8.1min\n",
      "[Parallel(n_jobs=-1)]: Done  16 tasks      | elapsed:  8.1min\n",
      "[Parallel(n_jobs=-1)]: Done  17 tasks      | elapsed: 10.8min\n",
      "[Parallel(n_jobs=-1)]: Done  18 tasks      | elapsed: 10.8min\n",
      "[Parallel(n_jobs=-1)]: Done  19 tasks      | elapsed: 10.8min\n",
      "[Parallel(n_jobs=-1)]: Done  20 tasks      | elapsed: 10.8min\n",
      "[Parallel(n_jobs=-1)]: Done  21 tasks      | elapsed: 10.8min\n",
      "[Parallel(n_jobs=-1)]: Done  22 tasks      | elapsed: 10.8min\n",
      "[Parallel(n_jobs=-1)]: Done  23 tasks      | elapsed: 10.8min\n",
      "[Parallel(n_jobs=-1)]: Done  24 tasks      | elapsed: 11.0min\n",
      "[Parallel(n_jobs=-1)]: Done  25 tasks      | elapsed: 11.1min\n",
      "[Parallel(n_jobs=-1)]: Done  26 tasks      | elapsed: 14.4min\n",
      "[Parallel(n_jobs=-1)]: Done  27 tasks      | elapsed: 14.9min\n",
      "[Parallel(n_jobs=-1)]: Done  28 tasks      | elapsed: 14.9min\n",
      "[Parallel(n_jobs=-1)]: Done  29 tasks      | elapsed: 15.1min\n",
      "[Parallel(n_jobs=-1)]: Done  30 tasks      | elapsed: 15.2min\n",
      "[Parallel(n_jobs=-1)]: Done  31 tasks      | elapsed: 15.2min\n",
      "[Parallel(n_jobs=-1)]: Done  32 tasks      | elapsed: 15.4min\n",
      "[Parallel(n_jobs=-1)]: Done  33 tasks      | elapsed: 18.2min\n",
      "[Parallel(n_jobs=-1)]: Done  34 tasks      | elapsed: 18.2min\n",
      "[Parallel(n_jobs=-1)]: Done  35 tasks      | elapsed: 18.2min\n",
      "[Parallel(n_jobs=-1)]: Done  36 tasks      | elapsed: 18.2min\n",
      "[Parallel(n_jobs=-1)]: Done  37 tasks      | elapsed: 18.2min\n",
      "[Parallel(n_jobs=-1)]: Done  38 tasks      | elapsed: 18.2min\n",
      "[Parallel(n_jobs=-1)]: Done  39 tasks      | elapsed: 18.4min\n",
      "[Parallel(n_jobs=-1)]: Done  40 tasks      | elapsed: 18.8min\n",
      "[Parallel(n_jobs=-1)]: Done  41 tasks      | elapsed: 22.2min\n",
      "[Parallel(n_jobs=-1)]: Done  42 tasks      | elapsed: 22.4min\n",
      "[Parallel(n_jobs=-1)]: Done  43 tasks      | elapsed: 22.5min\n",
      "[Parallel(n_jobs=-1)]: Done  44 tasks      | elapsed: 22.5min\n",
      "[Parallel(n_jobs=-1)]: Done  45 tasks      | elapsed: 22.6min\n",
      "[Parallel(n_jobs=-1)]: Done  46 tasks      | elapsed: 22.6min\n",
      "[Parallel(n_jobs=-1)]: Done  47 tasks      | elapsed: 22.8min\n",
      "[Parallel(n_jobs=-1)]: Done  48 tasks      | elapsed: 23.0min\n",
      "[Parallel(n_jobs=-1)]: Done  49 tasks      | elapsed: 23.0min\n",
      "[Parallel(n_jobs=-1)]: Done  50 tasks      | elapsed: 23.0min\n",
      "[Parallel(n_jobs=-1)]: Done  51 tasks      | elapsed: 23.0min\n",
      "[Parallel(n_jobs=-1)]: Done  52 tasks      | elapsed: 23.0min\n",
      "[Parallel(n_jobs=-1)]: Done  53 tasks      | elapsed: 23.0min\n",
      "[Parallel(n_jobs=-1)]: Done  54 tasks      | elapsed: 26.5min\n",
      "[Parallel(n_jobs=-1)]: Done  55 tasks      | elapsed: 26.6min\n",
      "[Parallel(n_jobs=-1)]: Done  56 tasks      | elapsed: 27.0min\n",
      "[Parallel(n_jobs=-1)]: Done  57 tasks      | elapsed: 30.3min\n",
      "[Parallel(n_jobs=-1)]: Done  58 tasks      | elapsed: 30.3min\n",
      "[Parallel(n_jobs=-1)]: Done  59 tasks      | elapsed: 30.3min\n",
      "[Parallel(n_jobs=-1)]: Done  60 tasks      | elapsed: 30.4min\n",
      "[Parallel(n_jobs=-1)]: Done  61 tasks      | elapsed: 30.5min\n",
      "[Parallel(n_jobs=-1)]: Done  62 tasks      | elapsed: 30.5min\n",
      "[Parallel(n_jobs=-1)]: Done  63 tasks      | elapsed: 30.6min\n",
      "[Parallel(n_jobs=-1)]: Done  64 tasks      | elapsed: 30.6min\n",
      "[Parallel(n_jobs=-1)]: Done  65 tasks      | elapsed: 30.6min\n",
      "[Parallel(n_jobs=-1)]: Done  66 tasks      | elapsed: 30.6min\n",
      "[Parallel(n_jobs=-1)]: Done  67 tasks      | elapsed: 30.6min\n",
      "[Parallel(n_jobs=-1)]: Done  68 tasks      | elapsed: 30.6min\n",
      "[Parallel(n_jobs=-1)]: Done  69 tasks      | elapsed: 31.3min\n",
      "[Parallel(n_jobs=-1)]: Done  70 tasks      | elapsed: 34.2min\n",
      "[Parallel(n_jobs=-1)]: Done  71 tasks      | elapsed: 34.5min\n",
      "[Parallel(n_jobs=-1)]: Done  72 tasks      | elapsed: 35.1min\n",
      "[Parallel(n_jobs=-1)]: Done  73 tasks      | elapsed: 37.5min\n",
      "[Parallel(n_jobs=-1)]: Done  74 tasks      | elapsed: 37.5min\n",
      "[Parallel(n_jobs=-1)]: Done  75 tasks      | elapsed: 37.7min\n",
      "[Parallel(n_jobs=-1)]: Done  76 tasks      | elapsed: 37.8min\n",
      "[Parallel(n_jobs=-1)]: Done  77 tasks      | elapsed: 37.8min\n",
      "[Parallel(n_jobs=-1)]: Done  78 tasks      | elapsed: 37.9min\n",
      "[Parallel(n_jobs=-1)]: Done  79 tasks      | elapsed: 37.9min\n",
      "[Parallel(n_jobs=-1)]: Done  80 tasks      | elapsed: 37.9min\n",
      "[Parallel(n_jobs=-1)]: Done  81 tasks      | elapsed: 37.9min\n",
      "[Parallel(n_jobs=-1)]: Done  82 tasks      | elapsed: 37.9min\n",
      "[Parallel(n_jobs=-1)]: Done  83 tasks      | elapsed: 37.9min\n",
      "[Parallel(n_jobs=-1)]: Done  84 tasks      | elapsed: 38.4min\n",
      "[Parallel(n_jobs=-1)]: Done  85 tasks      | elapsed: 38.8min\n",
      "[Parallel(n_jobs=-1)]: Done  86 tasks      | elapsed: 44.3min\n",
      "[Parallel(n_jobs=-1)]: Done  87 tasks      | elapsed: 44.3min\n",
      "[Parallel(n_jobs=-1)]: Done  88 tasks      | elapsed: 44.6min\n",
      "[Parallel(n_jobs=-1)]: Done  89 tasks      | elapsed: 44.6min\n",
      "[Parallel(n_jobs=-1)]: Done  90 tasks      | elapsed: 44.6min\n",
      "[Parallel(n_jobs=-1)]: Done  91 tasks      | elapsed: 48.8min\n",
      "[Parallel(n_jobs=-1)]: Done  92 tasks      | elapsed: 49.4min\n",
      "[Parallel(n_jobs=-1)]: Done  93 tasks      | elapsed: 56.3min\n",
      "[Parallel(n_jobs=-1)]: Done  94 tasks      | elapsed: 56.3min\n",
      "[Parallel(n_jobs=-1)]: Done  95 tasks      | elapsed: 56.3min\n",
      "[Parallel(n_jobs=-1)]: Done  96 tasks      | elapsed: 56.3min\n",
      "[Parallel(n_jobs=-1)]: Done  97 tasks      | elapsed: 56.3min\n",
      "[Parallel(n_jobs=-1)]: Done  98 tasks      | elapsed: 56.3min\n",
      "[Parallel(n_jobs=-1)]: Done  99 tasks      | elapsed: 58.1min\n",
      "[Parallel(n_jobs=-1)]: Done 100 tasks      | elapsed: 59.8min\n",
      "[Parallel(n_jobs=-1)]: Done 101 tasks      | elapsed: 60.7min\n",
      "[Parallel(n_jobs=-1)]: Done 102 tasks      | elapsed: 60.8min\n",
      "[Parallel(n_jobs=-1)]: Done 103 tasks      | elapsed: 61.5min\n",
      "[Parallel(n_jobs=-1)]: Done 104 tasks      | elapsed: 65.8min\n",
      "[Parallel(n_jobs=-1)]: Done 105 tasks      | elapsed: 66.3min\n",
      "[Parallel(n_jobs=-1)]: Done 106 tasks      | elapsed: 67.1min\n",
      "[Parallel(n_jobs=-1)]: Done 107 tasks      | elapsed: 69.6min\n",
      "[Parallel(n_jobs=-1)]: Done 108 tasks      | elapsed: 71.9min\n",
      "[Parallel(n_jobs=-1)]: Done 109 tasks      | elapsed: 71.9min\n",
      "[Parallel(n_jobs=-1)]: Done 110 tasks      | elapsed: 71.9min\n",
      "[Parallel(n_jobs=-1)]: Done 111 tasks      | elapsed: 71.9min\n",
      "[Parallel(n_jobs=-1)]: Done 112 tasks      | elapsed: 71.9min\n",
      "[Parallel(n_jobs=-1)]: Done 113 tasks      | elapsed: 71.9min\n",
      "[Parallel(n_jobs=-1)]: Done 114 tasks      | elapsed: 73.5min\n",
      "[Parallel(n_jobs=-1)]: Done 115 tasks      | elapsed: 76.0min\n",
      "[Parallel(n_jobs=-1)]: Done 116 tasks      | elapsed: 77.3min\n",
      "[Parallel(n_jobs=-1)]: Done 117 tasks      | elapsed: 80.9min\n",
      "[Parallel(n_jobs=-1)]: Done 118 tasks      | elapsed: 80.9min\n",
      "[Parallel(n_jobs=-1)]: Done 119 tasks      | elapsed: 80.9min\n",
      "[Parallel(n_jobs=-1)]: Done 120 tasks      | elapsed: 82.5min\n",
      "[Parallel(n_jobs=-1)]: Done 123 out of 135 | elapsed: 88.3min remaining:  8.6min\n",
      "[Parallel(n_jobs=-1)]: Done 126 out of 135 | elapsed: 88.3min remaining:  6.3min\n",
      "[Parallel(n_jobs=-1)]: Done 129 out of 135 | elapsed: 92.1min remaining:  4.3min\n",
      "[Parallel(n_jobs=-1)]: Done 132 out of 135 | elapsed: 96.1min remaining:  2.2min\n",
      "[Parallel(n_jobs=-1)]: Done 135 out of 135 | elapsed: 100.3min remaining:    0.0s\n",
      "[Parallel(n_jobs=-1)]: Done 135 out of 135 | elapsed: 100.3min finished\n"
     ]
    }
   ],
   "source": [
    "#TRAIN YOUR CLASSIFIER\n",
    "gs = gs.fit(X_train, y_train)"
   ]
  },
  {
   "cell_type": "code",
   "execution_count": 37,
   "metadata": {},
   "outputs": [
    {
     "name": "stdout",
     "output_type": "stream",
     "text": [
      "***GRIDSEARCH RESULTS***\n",
      "Best score: 0.688160 using {'C': 1, 'degree': 2, 'gamma': 1, 'kernel': 'rbf'}\n",
      "0.671080 (0.001492) with: {'C': 0.1, 'degree': 2, 'gamma': 1, 'kernel': 'linear'}\n",
      "0.670061 (0.002539) with: {'C': 0.1, 'degree': 2, 'gamma': 1, 'kernel': 'rbf'}\n",
      "nan (nan) with: {'C': 0.1, 'degree': 2, 'gamma': 1, 'kernel': 'polinomial'}\n",
      "0.671080 (0.001492) with: {'C': 0.1, 'degree': 3, 'gamma': 1, 'kernel': 'linear'}\n",
      "0.670061 (0.002539) with: {'C': 0.1, 'degree': 3, 'gamma': 1, 'kernel': 'rbf'}\n",
      "nan (nan) with: {'C': 0.1, 'degree': 3, 'gamma': 1, 'kernel': 'polinomial'}\n",
      "0.671080 (0.001492) with: {'C': 0.1, 'degree': 4, 'gamma': 1, 'kernel': 'linear'}\n",
      "0.670061 (0.002539) with: {'C': 0.1, 'degree': 4, 'gamma': 1, 'kernel': 'rbf'}\n",
      "nan (nan) with: {'C': 0.1, 'degree': 4, 'gamma': 1, 'kernel': 'polinomial'}\n",
      "0.671080 (0.001492) with: {'C': 1, 'degree': 2, 'gamma': 1, 'kernel': 'linear'}\n",
      "0.688160 (0.002409) with: {'C': 1, 'degree': 2, 'gamma': 1, 'kernel': 'rbf'}\n",
      "nan (nan) with: {'C': 1, 'degree': 2, 'gamma': 1, 'kernel': 'polinomial'}\n",
      "0.671080 (0.001492) with: {'C': 1, 'degree': 3, 'gamma': 1, 'kernel': 'linear'}\n",
      "0.688160 (0.002409) with: {'C': 1, 'degree': 3, 'gamma': 1, 'kernel': 'rbf'}\n",
      "nan (nan) with: {'C': 1, 'degree': 3, 'gamma': 1, 'kernel': 'polinomial'}\n",
      "0.671080 (0.001492) with: {'C': 1, 'degree': 4, 'gamma': 1, 'kernel': 'linear'}\n",
      "0.688160 (0.002409) with: {'C': 1, 'degree': 4, 'gamma': 1, 'kernel': 'rbf'}\n",
      "nan (nan) with: {'C': 1, 'degree': 4, 'gamma': 1, 'kernel': 'polinomial'}\n",
      "0.671080 (0.001492) with: {'C': 100, 'degree': 2, 'gamma': 1, 'kernel': 'linear'}\n",
      "0.682178 (0.002429) with: {'C': 100, 'degree': 2, 'gamma': 1, 'kernel': 'rbf'}\n",
      "nan (nan) with: {'C': 100, 'degree': 2, 'gamma': 1, 'kernel': 'polinomial'}\n",
      "0.671080 (0.001492) with: {'C': 100, 'degree': 3, 'gamma': 1, 'kernel': 'linear'}\n",
      "0.682178 (0.002429) with: {'C': 100, 'degree': 3, 'gamma': 1, 'kernel': 'rbf'}\n",
      "nan (nan) with: {'C': 100, 'degree': 3, 'gamma': 1, 'kernel': 'polinomial'}\n",
      "0.671080 (0.001492) with: {'C': 100, 'degree': 4, 'gamma': 1, 'kernel': 'linear'}\n",
      "0.682178 (0.002429) with: {'C': 100, 'degree': 4, 'gamma': 1, 'kernel': 'rbf'}\n",
      "nan (nan) with: {'C': 100, 'degree': 4, 'gamma': 1, 'kernel': 'polinomial'}\n"
     ]
    }
   ],
   "source": [
    "#summarize the results of your GRIDSEARCH\n",
    "print('***GRIDSEARCH RESULTS***')\n",
    "\n",
    "print(\"Best score: %f using %s\" % (gs.best_score_, gs.best_params_))\n",
    "means = gs.cv_results_['mean_test_score']\n",
    "stds = gs.cv_results_['std_test_score']\n",
    "params = gs.cv_results_['params']\n",
    "\n",
    "for mean, stdev, param in zip(means, stds, params):\n",
    "    print(\"%f (%f) with: %r\" % (mean, stdev, param))"
   ]
  },
  {
   "cell_type": "code",
   "execution_count": 38,
   "metadata": {},
   "outputs": [],
   "source": [
    "#TEST ON YOUR TEST SET \n",
    "best_model = gs.best_estimator_\n",
    "y_pred = best_model.predict(X_test)\n",
    "\n",
    "y_pred_train = best_model.predict(X_train)"
   ]
  },
  {
   "cell_type": "code",
   "execution_count": 16,
   "metadata": {},
   "outputs": [],
   "source": [
    "#This is your prediction on the TEST SET\n",
    "#y_pred"
   ]
  },
  {
   "cell_type": "code",
   "execution_count": 20,
   "metadata": {},
   "outputs": [],
   "source": [
    "#EVALUATE YOUR PREDICTION (on the y_test that you left aside)\n",
    "from sklearn.metrics import f1_score\n"
   ]
  },
  {
   "cell_type": "code",
   "execution_count": 23,
   "metadata": {},
   "outputs": [
    {
     "name": "stdout",
     "output_type": "stream",
     "text": [
      "***RESULTS ON TRAIN SET***\n",
      "f1_score:  0.6880353511903808\n",
      "--\n",
      "***RESULTS ON TEST SET***\n",
      "f1_score:  0.6889559134954759\n"
     ]
    }
   ],
   "source": [
    "\n",
    "print('***RESULTS ON TRAIN SET***')\n",
    "print(\"f1_score: \", f1_score(y_train, y_pred_train))\n",
    "print(\"--\")\n",
    "print('***RESULTS ON TEST SET***')\n",
    "print(\"f1_score: \", f1_score(y_test, y_pred))"
   ]
  },
  {
   "cell_type": "code",
   "execution_count": 39,
   "metadata": {},
   "outputs": [
    {
     "name": "stdout",
     "output_type": "stream",
     "text": [
      "              precision    recall  f1-score   support\n",
      "\n",
      "           0       0.90      0.73      0.81     13976\n",
      "           1       0.59      0.83      0.69      6495\n",
      "\n",
      "    accuracy                           0.76     20471\n",
      "   macro avg       0.75      0.78      0.75     20471\n",
      "weighted avg       0.80      0.76      0.77     20471\n",
      "\n"
     ]
    }
   ],
   "source": [
    "#PRINT SOME FURTHER METRICS\n",
    "from sklearn.metrics import classification_report\n",
    "print(classification_report(y_test, y_pred))"
   ]
  },
  {
   "cell_type": "code",
   "execution_count": 26,
   "metadata": {},
   "outputs": [
    {
     "name": "stdout",
     "output_type": "stream",
     "text": [
      "[[129  21]\n",
      " [ 38  43]]\n"
     ]
    }
   ],
   "source": [
    "#CONFUSION MATRIX\n",
    "from sklearn.metrics import confusion_matrix\n",
    "print(confusion_matrix(y_test, y_pred))"
   ]
  },
  {
   "cell_type": "code",
   "execution_count": 27,
   "metadata": {},
   "outputs": [
    {
     "data": {
      "image/png": "[encoded data removed]",
      "text/plain": [
       "<Figure size 432x288 with 2 Axes>"
      ]
     },
     "metadata": {},
     "output_type": "display_data"
    }
   ],
   "source": [
    "# Plot confusion matrix\n",
    "sns.heatmap(confusion_matrix(y_test, y_pred), annot=True, fmt='d', cmap=\"Blues\"); #annot=True to annotate cells fmt: format\n"
   ]
  },
  {
   "cell_type": "code",
   "execution_count": 28,
   "metadata": {},
   "outputs": [
    {
     "data": {
      "image/png": "[encoded data removed]",
      "text/plain": [
       "<Figure size 432x288 with 1 Axes>"
      ]
     },
     "metadata": {},
     "output_type": "display_data"
    },
    {
     "name": "stdout",
     "output_type": "stream",
     "text": [
      "AUC: 0.85\n"
     ]
    }
   ],
   "source": [
    "from sklearn import metrics\n",
    "\n",
    "model = SVC(C=0.1, gamma=0.0001, kernel='linear',probability=True)\n",
    "\n",
    "model.fit(X_train, y_train)\n",
    "y_pred = model.predict(X_test)\n",
    "\n",
    "y_probs = model.predict_proba(X_test) #predict_proba gives the probabilities for the target (0 and 1 in your case) \n",
    "\n",
    "fpr, tpr, thresholds=metrics.roc_curve(y_test,  y_probs[:,1])\n",
    "\n",
    "import matplotlib.pyplot as plt\n",
    "plt.plot(fpr, tpr, label='ROC')\n",
    "plt.plot([0, 1], [0, 1], color='darkblue', linestyle='--')\n",
    "plt.xlabel('False Positive Rate')\n",
    "plt.ylabel('True Positive Rate')\n",
    "plt.title('Receiver Operating Characteristic (ROC) Curve')\n",
    "plt.legend()\n",
    "plt.show()\n",
    "\n",
    "auc = metrics.roc_auc_score(y_test, y_probs[:,1])\n",
    "print('AUC: %.2f' % auc)"
   ]
  },
  {
   "cell_type": "code",
   "execution_count": null,
   "metadata": {},
   "outputs": [],
   "source": []
  },
  {
   "cell_type": "code",
   "execution_count": null,
   "metadata": {},
   "outputs": [],
   "source": []
  }
 ],
 "metadata": {
  "kernelspec": {
   "display_name": "Python 3",
   "language": "python",
   "name": "python3"
  },
  "language_info": {
   "codemirror_mode": {
    "name": "ipython",
    "version": 3
   },
   "file_extension": ".py",
   "mimetype": "text/x-python",
   "name": "python",
   "nbconvert_exporter": "python",
   "pygments_lexer": "ipython3",
   "version": "3.8.3"
  }
 },
 "nbformat": 4,
 "nbformat_minor": 2
}
