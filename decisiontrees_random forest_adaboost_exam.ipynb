{
 "cells": [
  {
   "cell_type": "code",
   "execution_count": 23,
   "metadata": {},
   "outputs": [],
   "source": [
    "import pandas as pd\n",
    "import matplotlib.pyplot as plt\n",
    "import seaborn as sns"
   ]
  },
  {
   "cell_type": "code",
   "execution_count": 2,
   "metadata": {},
   "outputs": [],
   "source": [
    "df = pd.read_csv(\"Dataset.csv\")"
   ]
  },
  {
   "cell_type": "code",
   "execution_count": 3,
   "metadata": {},
   "outputs": [
    {
     "data": {
      "text/html": [
       "<div>\n",
       "<style scoped>\n",
       "    .dataframe tbody tr th:only-of-type {\n",
       "        vertical-align: middle;\n",
       "    }\n",
       "\n",
       "    .dataframe tbody tr th {\n",
       "        vertical-align: top;\n",
       "    }\n",
       "\n",
       "    .dataframe thead th {\n",
       "        text-align: right;\n",
       "    }\n",
       "</style>\n",
       "<table border=\"1\" class=\"dataframe\">\n",
       "  <thead>\n",
       "    <tr style=\"text-align: right;\">\n",
       "      <th></th>\n",
       "      <th>Prev_Insured_binary</th>\n",
       "      <th>Vehicle_damage_binary</th>\n",
       "      <th>&lt; 1 Year</th>\n",
       "      <th>&gt; 2 Years</th>\n",
       "      <th>Age_scaled</th>\n",
       "      <th>Target</th>\n",
       "    </tr>\n",
       "  </thead>\n",
       "  <tbody>\n",
       "    <tr>\n",
       "      <th>0</th>\n",
       "      <td>0</td>\n",
       "      <td>1</td>\n",
       "      <td>0</td>\n",
       "      <td>0</td>\n",
       "      <td>0.369231</td>\n",
       "      <td>0</td>\n",
       "    </tr>\n",
       "    <tr>\n",
       "      <th>1</th>\n",
       "      <td>1</td>\n",
       "      <td>0</td>\n",
       "      <td>1</td>\n",
       "      <td>0</td>\n",
       "      <td>0.046154</td>\n",
       "      <td>0</td>\n",
       "    </tr>\n",
       "    <tr>\n",
       "      <th>2</th>\n",
       "      <td>0</td>\n",
       "      <td>1</td>\n",
       "      <td>0</td>\n",
       "      <td>0</td>\n",
       "      <td>0.353846</td>\n",
       "      <td>0</td>\n",
       "    </tr>\n",
       "    <tr>\n",
       "      <th>3</th>\n",
       "      <td>1</td>\n",
       "      <td>0</td>\n",
       "      <td>0</td>\n",
       "      <td>0</td>\n",
       "      <td>0.615385</td>\n",
       "      <td>0</td>\n",
       "    </tr>\n",
       "    <tr>\n",
       "      <th>4</th>\n",
       "      <td>0</td>\n",
       "      <td>1</td>\n",
       "      <td>0</td>\n",
       "      <td>0</td>\n",
       "      <td>0.338462</td>\n",
       "      <td>0</td>\n",
       "    </tr>\n",
       "  </tbody>\n",
       "</table>\n",
       "</div>"
      ],
      "text/plain": [
       "   Prev_Insured_binary  Vehicle_damage_binary  < 1 Year  > 2 Years  \\\n",
       "0                    0                      1         0          0   \n",
       "1                    1                      0         1          0   \n",
       "2                    0                      1         0          0   \n",
       "3                    1                      0         0          0   \n",
       "4                    0                      1         0          0   \n",
       "\n",
       "   Age_scaled  Target  \n",
       "0    0.369231       0  \n",
       "1    0.046154       0  \n",
       "2    0.353846       0  \n",
       "3    0.615385       0  \n",
       "4    0.338462       0  "
      ]
     },
     "execution_count": 3,
     "metadata": {},
     "output_type": "execute_result"
    }
   ],
   "source": [
    "df.head()"
   ]
  },
  {
   "cell_type": "code",
   "execution_count": 4,
   "metadata": {},
   "outputs": [],
   "source": [
    "#Separate X and y (explanatory variables and target variable)\n",
    "X = df.iloc[:,0:-1]\n",
    "y = df.iloc[:,-1] #[-1]]\n",
    "\n",
    "#X.head()\n",
    "#y.head()"
   ]
  },
  {
   "cell_type": "code",
   "execution_count": 5,
   "metadata": {},
   "outputs": [
    {
     "name": "stdout",
     "output_type": "stream",
     "text": [
      "(71645, 5) (30706, 5)\n"
     ]
    }
   ],
   "source": [
    "from sklearn.model_selection import train_test_split\n",
    "\n",
    "#SPLIT DATA INTO TRAIN AND TEST SET\n",
    "X_train, X_test, y_train, y_test = train_test_split(X, y, \n",
    "                                                    test_size =0.30, #by default is 75%-25%\n",
    "                                                    #shuffle is set True by default,\n",
    "                                                    stratify=None, #preserve target proportions \n",
    "                                                    random_state= 123) #fix random seed for replicability\n",
    "\n",
    "print(X_train.shape, X_test.shape)"
   ]
  },
  {
   "cell_type": "code",
   "execution_count": 10,
   "metadata": {},
   "outputs": [
    {
     "data": {
      "image/png": "[encoded data removed]",
      "text/plain": [
       "<Figure size 432x288 with 1 Axes>"
      ]
     },
     "metadata": {
      "needs_background": "light"
     },
     "output_type": "display_data"
    }
   ],
   "source": [
    "#Visualize Class Counts\n",
    "plt.hist(y_test)\n",
    "plt.xlabel(\"count of each class\")\n",
    "plt.ylabel(\"classes\")\n",
    "plt.show()"
   ]
  },
  {
   "cell_type": "markdown",
   "metadata": {},
   "source": [
    "## DECISION TREE"
   ]
  },
  {
   "cell_type": "code",
   "execution_count": 44,
   "metadata": {},
   "outputs": [],
   "source": [
    "#DEFINE YOUR CLASSIFIER and THE PARAMETERS GRID\n",
    "from sklearn.tree import DecisionTreeClassifier\n",
    "import numpy as np\n",
    "\n",
    "classifier = DecisionTreeClassifier(random_state=0)\n",
    "parameters = {'criterion': ['entropy','gini'], \n",
    "              'max_depth': [3,5,10, 50],\n",
    "              'min_samples_split': [5,10],\n",
    "              'min_samples_leaf': [2,4]}"
   ]
  },
  {
   "cell_type": "code",
   "execution_count": 45,
   "metadata": {},
   "outputs": [],
   "source": [
    "#DEFINE YOUR GRIDSEARCH \n",
    "'''\n",
    "GS perfoms an exhaustive search over specified parameter values for an estimator.\n",
    "GS uses a Stratified K-Folds cross-validator\n",
    "(The folds are made by preserving the percentage of samples for each class.)\n",
    "If refit=True the model is retrained on the whole training set with the best found params\n",
    "'''\n",
    "from sklearn.model_selection import GridSearchCV\n",
    "gs = GridSearchCV(classifier, parameters, cv=3, scoring = 'f1', verbose=10, n_jobs=-1)"
   ]
  },
  {
   "cell_type": "code",
   "execution_count": 46,
   "metadata": {},
   "outputs": [
    {
     "name": "stdout",
     "output_type": "stream",
     "text": [
      "Fitting 3 folds for each of 32 candidates, totalling 96 fits\n"
     ]
    },
    {
     "name": "stderr",
     "output_type": "stream",
     "text": [
      "[Parallel(n_jobs=-1)]: Using backend LokyBackend with 4 concurrent workers.\n",
      "[Parallel(n_jobs=-1)]: Done   5 tasks      | elapsed:    0.5s\n",
      "[Parallel(n_jobs=-1)]: Done  10 tasks      | elapsed:    0.8s\n",
      "[Parallel(n_jobs=-1)]: Done  17 tasks      | elapsed:    1.1s\n",
      "[Parallel(n_jobs=-1)]: Done  24 tasks      | elapsed:    1.4s\n",
      "[Parallel(n_jobs=-1)]: Done  33 tasks      | elapsed:    1.8s\n",
      "[Parallel(n_jobs=-1)]: Done  42 tasks      | elapsed:    2.3s\n",
      "[Parallel(n_jobs=-1)]: Done  53 tasks      | elapsed:    3.1s\n",
      "[Parallel(n_jobs=-1)]: Done  64 tasks      | elapsed:    3.7s\n",
      "[Parallel(n_jobs=-1)]: Done  77 tasks      | elapsed:    4.4s\n",
      "[Parallel(n_jobs=-1)]: Done  96 out of  96 | elapsed:    5.7s finished\n"
     ]
    }
   ],
   "source": [
    "#TRAIN YOUR CLASSIFIER\n",
    "gs = gs.fit(X_train, y_train)"
   ]
  },
  {
   "cell_type": "code",
   "execution_count": 47,
   "metadata": {},
   "outputs": [
    {
     "name": "stdout",
     "output_type": "stream",
     "text": [
      "***GRIDSEARCH RESULTS***\n",
      "Best score: 0.691232 using {'criterion': 'entropy', 'max_depth': 3, 'min_samples_leaf': 2, 'min_samples_split': 5}\n",
      "0.691232 (0.002177) with: {'criterion': 'entropy', 'max_depth': 3, 'min_samples_leaf': 2, 'min_samples_split': 5}\n",
      "0.691232 (0.002177) with: {'criterion': 'entropy', 'max_depth': 3, 'min_samples_leaf': 2, 'min_samples_split': 10}\n",
      "0.691232 (0.002177) with: {'criterion': 'entropy', 'max_depth': 3, 'min_samples_leaf': 4, 'min_samples_split': 5}\n",
      "0.691232 (0.002177) with: {'criterion': 'entropy', 'max_depth': 3, 'min_samples_leaf': 4, 'min_samples_split': 10}\n",
      "0.668694 (0.008648) with: {'criterion': 'entropy', 'max_depth': 5, 'min_samples_leaf': 2, 'min_samples_split': 5}\n",
      "0.668694 (0.008648) with: {'criterion': 'entropy', 'max_depth': 5, 'min_samples_leaf': 2, 'min_samples_split': 10}\n",
      "0.668694 (0.008648) with: {'criterion': 'entropy', 'max_depth': 5, 'min_samples_leaf': 4, 'min_samples_split': 5}\n",
      "0.668694 (0.008648) with: {'criterion': 'entropy', 'max_depth': 5, 'min_samples_leaf': 4, 'min_samples_split': 10}\n",
      "0.675881 (0.006259) with: {'criterion': 'entropy', 'max_depth': 10, 'min_samples_leaf': 2, 'min_samples_split': 5}\n",
      "0.675907 (0.006223) with: {'criterion': 'entropy', 'max_depth': 10, 'min_samples_leaf': 2, 'min_samples_split': 10}\n",
      "0.676128 (0.006502) with: {'criterion': 'entropy', 'max_depth': 10, 'min_samples_leaf': 4, 'min_samples_split': 5}\n",
      "0.676154 (0.006466) with: {'criterion': 'entropy', 'max_depth': 10, 'min_samples_leaf': 4, 'min_samples_split': 10}\n",
      "0.676078 (0.006447) with: {'criterion': 'entropy', 'max_depth': 50, 'min_samples_leaf': 2, 'min_samples_split': 5}\n",
      "0.676154 (0.006442) with: {'criterion': 'entropy', 'max_depth': 50, 'min_samples_leaf': 2, 'min_samples_split': 10}\n",
      "0.676350 (0.006657) with: {'criterion': 'entropy', 'max_depth': 50, 'min_samples_leaf': 4, 'min_samples_split': 5}\n",
      "0.676427 (0.006645) with: {'criterion': 'entropy', 'max_depth': 50, 'min_samples_leaf': 4, 'min_samples_split': 10}\n",
      "0.690664 (0.001410) with: {'criterion': 'gini', 'max_depth': 3, 'min_samples_leaf': 2, 'min_samples_split': 5}\n",
      "0.690664 (0.001410) with: {'criterion': 'gini', 'max_depth': 3, 'min_samples_leaf': 2, 'min_samples_split': 10}\n",
      "0.690664 (0.001410) with: {'criterion': 'gini', 'max_depth': 3, 'min_samples_leaf': 4, 'min_samples_split': 5}\n",
      "0.690664 (0.001410) with: {'criterion': 'gini', 'max_depth': 3, 'min_samples_leaf': 4, 'min_samples_split': 10}\n",
      "0.668468 (0.008500) with: {'criterion': 'gini', 'max_depth': 5, 'min_samples_leaf': 2, 'min_samples_split': 5}\n",
      "0.668468 (0.008500) with: {'criterion': 'gini', 'max_depth': 5, 'min_samples_leaf': 2, 'min_samples_split': 10}\n",
      "0.668468 (0.008500) with: {'criterion': 'gini', 'max_depth': 5, 'min_samples_leaf': 4, 'min_samples_split': 5}\n",
      "0.668468 (0.008500) with: {'criterion': 'gini', 'max_depth': 5, 'min_samples_leaf': 4, 'min_samples_split': 10}\n",
      "0.675907 (0.006272) with: {'criterion': 'gini', 'max_depth': 10, 'min_samples_leaf': 2, 'min_samples_split': 5}\n",
      "0.675933 (0.006236) with: {'criterion': 'gini', 'max_depth': 10, 'min_samples_leaf': 2, 'min_samples_split': 10}\n",
      "0.676128 (0.006502) with: {'criterion': 'gini', 'max_depth': 10, 'min_samples_leaf': 4, 'min_samples_split': 5}\n",
      "0.676154 (0.006466) with: {'criterion': 'gini', 'max_depth': 10, 'min_samples_leaf': 4, 'min_samples_split': 10}\n",
      "0.676103 (0.006460) with: {'criterion': 'gini', 'max_depth': 50, 'min_samples_leaf': 2, 'min_samples_split': 5}\n",
      "0.676179 (0.006455) with: {'criterion': 'gini', 'max_depth': 50, 'min_samples_leaf': 2, 'min_samples_split': 10}\n",
      "0.676350 (0.006657) with: {'criterion': 'gini', 'max_depth': 50, 'min_samples_leaf': 4, 'min_samples_split': 5}\n",
      "0.676427 (0.006645) with: {'criterion': 'gini', 'max_depth': 50, 'min_samples_leaf': 4, 'min_samples_split': 10}\n"
     ]
    }
   ],
   "source": [
    "#summarize the results of your GRIDSEARCH\n",
    "print('***GRIDSEARCH RESULTS***')\n",
    "\n",
    "print(\"Best score: %f using %s\" % (gs.best_score_, gs.best_params_))\n",
    "means = gs.cv_results_['mean_test_score']\n",
    "stds = gs.cv_results_['std_test_score']\n",
    "params = gs.cv_results_['params']\n",
    "\n",
    "for mean, stdev, param in zip(means, stds, params):\n",
    "    print(\"%f (%f) with: %r\" % (mean, stdev, param))"
   ]
  },
  {
   "cell_type": "code",
   "execution_count": 48,
   "metadata": {},
   "outputs": [],
   "source": [
    "#TEST ON YOUR TEST SET \n",
    "best_model = gs.best_estimator_\n",
    "y_pred = best_model.predict(X_test)\n",
    "\n",
    "y_pred_train = best_model.predict(X_train)"
   ]
  },
  {
   "cell_type": "code",
   "execution_count": 49,
   "metadata": {},
   "outputs": [
    {
     "data": {
      "text/plain": [
       "array([1, 1, 0, ..., 1, 1, 0])"
      ]
     },
     "execution_count": 49,
     "metadata": {},
     "output_type": "execute_result"
    }
   ],
   "source": [
    "#This is your prediction on the TEST SET\n",
    "y_pred"
   ]
  },
  {
   "cell_type": "code",
   "execution_count": 50,
   "metadata": {},
   "outputs": [
    {
     "name": "stdout",
     "output_type": "stream",
     "text": [
      "***RESULTS ON TRAIN SET***\n",
      "f1_score:  0.6912335276120806\n",
      "--\n",
      "***RESULTS ON TEST SET***\n",
      "f1_score:  0.6910213738621327\n"
     ]
    }
   ],
   "source": [
    "#EVALUATE YOUR PREDICTION (on the y_test that you left aside)\n",
    "from sklearn import metrics\n",
    "\n",
    "print('***RESULTS ON TRAIN SET***')\n",
    "print(\"f1_score: \", metrics.f1_score(y_train, y_pred_train))\n",
    "print(\"--\")\n",
    "print('***RESULTS ON TEST SET***')\n",
    "print(\"f1_score: \", metrics.f1_score(y_test, y_pred))"
   ]
  },
  {
   "cell_type": "code",
   "execution_count": 51,
   "metadata": {},
   "outputs": [
    {
     "name": "stdout",
     "output_type": "stream",
     "text": [
      "              precision    recall  f1-score   support\n",
      "\n",
      "           0       0.93      0.68      0.79     21001\n",
      "           1       0.57      0.89      0.69      9705\n",
      "\n",
      "    accuracy                           0.75     30706\n",
      "   macro avg       0.75      0.79      0.74     30706\n",
      "weighted avg       0.81      0.75      0.76     30706\n",
      "\n"
     ]
    }
   ],
   "source": [
    "#PRINT SOME FURTHER METRICS\n",
    "from sklearn.metrics import classification_report\n",
    "print(classification_report(y_test, y_pred))"
   ]
  },
  {
   "cell_type": "code",
   "execution_count": 52,
   "metadata": {},
   "outputs": [
    {
     "name": "stdout",
     "output_type": "stream",
     "text": [
      "[[14385  6616]\n",
      " [ 1089  8616]]\n"
     ]
    }
   ],
   "source": [
    "from sklearn.metrics import confusion_matrix\n",
    "print(confusion_matrix(y_test, y_pred))"
   ]
  },
  {
   "cell_type": "code",
   "execution_count": 53,
   "metadata": {},
   "outputs": [
    {
     "data": {
      "image/png": "[encoded data removed]",
      "text/plain": [
       "<Figure size 432x288 with 1 Axes>"
      ]
     },
     "metadata": {
      "needs_background": "light"
     },
     "output_type": "display_data"
    }
   ],
   "source": [
    "# Plot confusion matrix\n",
    "sns.heatmap(confusion_matrix(y_test, y_pred), annot=True, fmt='d', cmap=\"Reds\", cbar=False);\n",
    "\n",
    "#annot=True to annotate cells fmt: format"
   ]
  },
  {
   "cell_type": "code",
   "execution_count": 54,
   "metadata": {},
   "outputs": [
    {
     "data": {
      "image/png": "[encoded data removed]",
      "text/plain": [
       "<Figure size 432x288 with 1 Axes>"
      ]
     },
     "metadata": {
      "needs_background": "light"
     },
     "output_type": "display_data"
    },
    {
     "name": "stdout",
     "output_type": "stream",
     "text": [
      "AUC: 0.83\n"
     ]
    }
   ],
   "source": [
    "from sklearn import metrics\n",
    "model = DecisionTreeClassifier(criterion='entropy', max_depth=4, min_samples_leaf=4, min_samples_split=5)\n",
    "model.fit(X_train, y_train)\n",
    "\n",
    "y_pred = model.predict(X_test)\n",
    "y_probs = model.predict_proba(X_test) #predict_proba gives the probabilities for the target (0 and 1 in your case) \n",
    "\n",
    "fpr, tpr, thresholds=metrics.roc_curve(y_test,  y_probs[:,1])\n",
    "\n",
    "import matplotlib.pyplot as plt\n",
    "\n",
    "plt.plot(fpr, tpr, label='ROC')\n",
    "plt.plot([0, 1], [0, 1], color='darkblue', linestyle='--')\n",
    "plt.xlabel('False Positive Rate')\n",
    "plt.ylabel('True Positive Rate')\n",
    "plt.title('Receiver Operating Characteristic (ROC) Curve')\n",
    "plt.legend()\n",
    "plt.show()\n",
    "\n",
    "auc = metrics.roc_auc_score(y_test, y_probs[:,1])\n",
    "print('AUC: %.2f' % auc)"
   ]
  },
  {
   "cell_type": "code",
   "execution_count": 55,
   "metadata": {},
   "outputs": [
    {
     "data": {
      "text/plain": [
       "['Prev_Insured_binary',\n",
       " 'Vehicle_damage_binary',\n",
       " '< 1 Year',\n",
       " '> 2 Years',\n",
       " 'Age_scaled']"
      ]
     },
     "execution_count": 55,
     "metadata": {},
     "output_type": "execute_result"
    }
   ],
   "source": [
    "X_train.columns.tolist()"
   ]
  },
  {
   "cell_type": "code",
   "execution_count": 56,
   "metadata": {},
   "outputs": [
    {
     "name": "stdout",
     "output_type": "stream",
     "text": [
      "|--- Prev_Insured_binary <= 0.50\n",
      "|   |--- Vehicle_damage_binary <= 0.50\n",
      "|   |   |--- Age_scaled <= 0.59\n",
      "|   |   |   |--- < 1 Year <= 0.50\n",
      "|   |   |   |   |--- class: 0\n",
      "|   |   |   |--- < 1 Year >  0.50\n",
      "|   |   |   |   |--- class: 0\n",
      "|   |   |--- Age_scaled >  0.59\n",
      "|   |   |   |--- Age_scaled <= 0.81\n",
      "|   |   |   |   |--- class: 0\n",
      "|   |   |   |--- Age_scaled >  0.81\n",
      "|   |   |   |   |--- class: 0\n",
      "|   |--- Vehicle_damage_binary >  0.50\n",
      "|   |   |--- Age_scaled <= 0.10\n",
      "|   |   |   |--- Age_scaled <= 0.02\n",
      "|   |   |   |   |--- class: 0\n",
      "|   |   |   |--- Age_scaled >  0.02\n",
      "|   |   |   |   |--- class: 0\n",
      "|   |   |--- Age_scaled >  0.10\n",
      "|   |   |   |--- Age_scaled <= 0.58\n",
      "|   |   |   |   |--- class: 1\n",
      "|   |   |   |--- Age_scaled >  0.58\n",
      "|   |   |   |   |--- class: 0\n",
      "|--- Prev_Insured_binary >  0.50\n",
      "|   |--- Vehicle_damage_binary <= 0.50\n",
      "|   |   |--- Age_scaled <= 0.62\n",
      "|   |   |   |--- Age_scaled <= 0.19\n",
      "|   |   |   |   |--- class: 0\n",
      "|   |   |   |--- Age_scaled >  0.19\n",
      "|   |   |   |   |--- class: 0\n",
      "|   |   |--- Age_scaled >  0.62\n",
      "|   |   |   |--- class: 0\n",
      "|   |--- Vehicle_damage_binary >  0.50\n",
      "|   |   |--- Age_scaled <= 0.45\n",
      "|   |   |   |--- < 1 Year <= 0.50\n",
      "|   |   |   |   |--- class: 0\n",
      "|   |   |   |--- < 1 Year >  0.50\n",
      "|   |   |   |   |--- class: 0\n",
      "|   |   |--- Age_scaled >  0.45\n",
      "|   |   |   |--- Age_scaled <= 0.53\n",
      "|   |   |   |   |--- class: 0\n",
      "|   |   |   |--- Age_scaled >  0.53\n",
      "|   |   |   |   |--- class: 0\n",
      "\n"
     ]
    }
   ],
   "source": [
    "from sklearn import tree\n",
    "r = tree.export_text(model,feature_names=X_test.columns.tolist())\n",
    "print(r)\n"
   ]
  },
  {
   "cell_type": "code",
   "execution_count": 57,
   "metadata": {},
   "outputs": [
    {
     "data": {
      "text/plain": [
       "[Text(176.36785714285713, 195.696, 'X[0] <= 0.5\\nentropy = 0.902\\nsamples = 71645\\nvalue = [48877, 22768]'),\n",
       " Text(95.65714285714286, 152.208, 'X[1] <= 0.5\\nentropy = 1.0\\nsamples = 46045\\nvalue = [23351, 22694]'),\n",
       " Text(47.82857142857143, 108.72, 'X[4] <= 0.592\\nentropy = 0.523\\nsamples = 3735\\nvalue = [3295, 440]'),\n",
       " Text(23.914285714285715, 65.232, 'X[2] <= 0.5\\nentropy = 0.55\\nsamples = 3318\\nvalue = [2896, 422]'),\n",
       " Text(11.957142857142857, 21.744, 'entropy = 0.618\\nsamples = 1620\\nvalue = [1372, 248]'),\n",
       " Text(35.871428571428574, 21.744, 'entropy = 0.477\\nsamples = 1698\\nvalue = [1524, 174]'),\n",
       " Text(71.74285714285715, 65.232, 'X[4] <= 0.808\\nentropy = 0.257\\nsamples = 417\\nvalue = [399, 18]'),\n",
       " Text(59.785714285714285, 21.744, 'entropy = 0.303\\nsamples = 315\\nvalue = [298, 17]'),\n",
       " Text(83.7, 21.744, 'entropy = 0.079\\nsamples = 102\\nvalue = [101, 1]'),\n",
       " Text(143.4857142857143, 108.72, 'X[4] <= 0.1\\nentropy = 0.998\\nsamples = 42310\\nvalue = [20056, 22254]'),\n",
       " Text(119.57142857142857, 65.232, 'X[4] <= 0.023\\nentropy = 0.892\\nsamples = 6571\\nvalue = [4538, 2033]'),\n",
       " Text(107.61428571428571, 21.744, 'entropy = 0.718\\nsamples = 1566\\nvalue = [1256, 310]'),\n",
       " Text(131.52857142857144, 21.744, 'entropy = 0.929\\nsamples = 5005\\nvalue = [3282, 1723]'),\n",
       " Text(167.4, 65.232, 'X[4] <= 0.577\\nentropy = 0.987\\nsamples = 35739\\nvalue = [15518, 20221]'),\n",
       " Text(155.44285714285715, 21.744, 'entropy = 0.972\\nsamples = 29136\\nvalue = [11696, 17440]'),\n",
       " Text(179.35714285714286, 21.744, 'entropy = 0.982\\nsamples = 6603\\nvalue = [3822, 2781]'),\n",
       " Text(257.0785714285714, 152.208, 'X[1] <= 0.5\\nentropy = 0.029\\nsamples = 25600\\nvalue = [25526, 74]'),\n",
       " Text(227.18571428571428, 108.72, 'X[4] <= 0.623\\nentropy = 0.015\\nsamples = 24126\\nvalue = [24092, 34]'),\n",
       " Text(215.22857142857143, 65.232, 'X[4] <= 0.192\\nentropy = 0.017\\nsamples = 21975\\nvalue = [21941, 34]'),\n",
       " Text(203.27142857142857, 21.744, 'entropy = 0.011\\nsamples = 15536\\nvalue = [15521, 15]'),\n",
       " Text(227.18571428571428, 21.744, 'entropy = 0.029\\nsamples = 6439\\nvalue = [6420, 19]'),\n",
       " Text(239.14285714285714, 65.232, 'entropy = 0.0\\nsamples = 2151\\nvalue = [2151, 0]'),\n",
       " Text(286.9714285714286, 108.72, 'X[4] <= 0.454\\nentropy = 0.18\\nsamples = 1474\\nvalue = [1434, 40]'),\n",
       " Text(263.0571428571429, 65.232, 'X[2] <= 0.5\\nentropy = 0.219\\nsamples = 1054\\nvalue = [1017, 37]'),\n",
       " Text(251.1, 21.744, 'entropy = 0.32\\nsamples = 447\\nvalue = [421, 26]'),\n",
       " Text(275.01428571428573, 21.744, 'entropy = 0.131\\nsamples = 607\\nvalue = [596, 11]'),\n",
       " Text(310.8857142857143, 65.232, 'X[4] <= 0.531\\nentropy = 0.061\\nsamples = 420\\nvalue = [417, 3]'),\n",
       " Text(298.92857142857144, 21.744, 'entropy = 0.0\\nsamples = 103\\nvalue = [103, 0]'),\n",
       " Text(322.84285714285716, 21.744, 'entropy = 0.077\\nsamples = 317\\nvalue = [314, 3]')]"
      ]
     },
     "execution_count": 57,
     "metadata": {},
     "output_type": "execute_result"
    },
    {
     "data": {
      "image/png": "[encoded data removed]",
      "text/plain": [
       "<Figure size 432x288 with 1 Axes>"
      ]
     },
     "metadata": {
      "needs_background": "light"
     },
     "output_type": "display_data"
    }
   ],
   "source": [
    "tree.plot_tree(model, fontsize=8)"
   ]
  },
  {
   "cell_type": "markdown",
   "metadata": {},
   "source": [
    "## RANDOM FOREST"
   ]
  },
  {
   "cell_type": "code",
   "execution_count": 31,
   "metadata": {},
   "outputs": [],
   "source": [
    "from sklearn.ensemble import RandomForestClassifier\n",
    "\n",
    "rand_forest = RandomForestClassifier(n_estimators=30, criterion='entropy', max_depth=6, min_samples_split=4, min_samples_leaf=2)\n",
    "#rand_forest = RandomForestClassifier()\n",
    "rand_forest.fit(X_train, y_train)\n",
    "\n",
    "y_pred = rand_forest.predict(X_test)"
   ]
  },
  {
   "cell_type": "code",
   "execution_count": 32,
   "metadata": {},
   "outputs": [
    {
     "name": "stdout",
     "output_type": "stream",
     "text": [
      "              precision    recall  f1-score   support\n",
      "\n",
      "           0       0.88      0.76      0.81     21001\n",
      "           1       0.60      0.77      0.67      9705\n",
      "\n",
      "    accuracy                           0.76     30706\n",
      "   macro avg       0.74      0.77      0.74     30706\n",
      "weighted avg       0.79      0.76      0.77     30706\n",
      "\n"
     ]
    }
   ],
   "source": [
    "from sklearn.metrics import classification_report\n",
    "\n",
    "print(classification_report(y_test, y_pred))"
   ]
  },
  {
   "cell_type": "code",
   "execution_count": 35,
   "metadata": {},
   "outputs": [
    {
     "name": "stdout",
     "output_type": "stream",
     "text": [
      "***RESULTS ON TRAIN SET***\n",
      "f1_score:  0.6912335276120806\n",
      "--\n",
      "***RESULTS ON TEST SET***\n",
      "f1_score:  0.6735755944369672\n"
     ]
    }
   ],
   "source": [
    "#EVALUATE YOUR PREDICTION (on the y_test that you left aside)\n",
    "from sklearn import metrics\n",
    "\n",
    "print('***RESULTS ON TRAIN SET***')\n",
    "print(\"f1_score: \", metrics.f1_score(y_train, y_pred_train))\n",
    "print(\"--\")\n",
    "print('***RESULTS ON TEST SET***')\n",
    "print(\"f1_score: \", metrics.f1_score(y_test, y_pred))"
   ]
  },
  {
   "cell_type": "code",
   "execution_count": 33,
   "metadata": {},
   "outputs": [
    {
     "data": {
      "image/png": "[encoded data removed]",
      "text/plain": [
       "<Figure size 432x288 with 1 Axes>"
      ]
     },
     "metadata": {
      "needs_background": "light"
     },
     "output_type": "display_data"
    }
   ],
   "source": [
    "# Plot confusion matrix\n",
    "from sklearn.metrics import confusion_matrix\n",
    "sns.heatmap(confusion_matrix(y_test, y_pred), annot=True, fmt='d', cmap=\"Reds\", cbar=False);"
   ]
  },
  {
   "cell_type": "code",
   "execution_count": 34,
   "metadata": {},
   "outputs": [
    {
     "data": {
      "image/png": "[encoded data removed]",
      "text/plain": [
       "<Figure size 432x288 with 1 Axes>"
      ]
     },
     "metadata": {
      "needs_background": "light"
     },
     "output_type": "display_data"
    },
    {
     "name": "stdout",
     "output_type": "stream",
     "text": [
      "AUC: 0.84\n"
     ]
    }
   ],
   "source": [
    "# ROC curve\n",
    "\n",
    "from sklearn import metrics\n",
    "\n",
    "y_probs = rand_forest.predict_proba(X_test) #predict_proba gives the probabilities for the target (0 and 1 in your case) \n",
    "\n",
    "fpr, tpr, thresholds=metrics.roc_curve(y_test,  y_probs[:,1])\n",
    "\n",
    "import matplotlib.pyplot as plt\n",
    "plt.plot(fpr, tpr, label='ROC')\n",
    "plt.plot([0, 1], [0, 1], color='darkblue', linestyle='--')\n",
    "plt.xlabel('False Positive Rate')\n",
    "plt.ylabel('True Positive Rate')\n",
    "plt.title('Receiver Operating Characteristic (ROC) Curve')\n",
    "plt.legend()\n",
    "plt.show()\n",
    "\n",
    "auc = metrics.roc_auc_score(y_test, y_probs[:,1])\n",
    "print('AUC: %.2f' % auc)"
   ]
  },
  {
   "cell_type": "markdown",
   "metadata": {},
   "source": [
    "## ADABOOST "
   ]
  },
  {
   "cell_type": "code",
   "execution_count": 37,
   "metadata": {},
   "outputs": [
    {
     "name": "stdout",
     "output_type": "stream",
     "text": [
      "Fitting 3 folds for each of 16 candidates, totalling 48 fits\n"
     ]
    },
    {
     "name": "stderr",
     "output_type": "stream",
     "text": [
      "[Parallel(n_jobs=-1)]: Using backend LokyBackend with 4 concurrent workers.\n",
      "[Parallel(n_jobs=-1)]: Done   5 tasks      | elapsed:   34.8s\n",
      "[Parallel(n_jobs=-1)]: Done  10 tasks      | elapsed:  1.4min\n",
      "[Parallel(n_jobs=-1)]: Done  17 tasks      | elapsed:  2.4min\n",
      "[Parallel(n_jobs=-1)]: Done  24 tasks      | elapsed:  3.3min\n",
      "[Parallel(n_jobs=-1)]: Done  33 tasks      | elapsed:  5.0min\n",
      "[Parallel(n_jobs=-1)]: Done  46 out of  48 | elapsed:  8.1min remaining:   21.1s\n",
      "[Parallel(n_jobs=-1)]: Done  48 out of  48 | elapsed:  8.3min finished\n"
     ]
    },
    {
     "data": {
      "text/plain": [
       "GridSearchCV(cv=3, estimator=AdaBoostClassifier(), n_jobs=-1,\n",
       "             param_grid={'learning_rate': [0.0001, 0.01, 0.1, 1.0],\n",
       "                         'n_estimators': [100, 500, 1000, 2000]},\n",
       "             scoring='f1', verbose=10)"
      ]
     },
     "execution_count": 37,
     "metadata": {},
     "output_type": "execute_result"
    }
   ],
   "source": [
    "from sklearn.model_selection import GridSearchCV\n",
    "\n",
    "classifier= AdaBoostClassifier()\n",
    "parameters = {'n_estimators' : [100, 500, 1000, 2000],\n",
    "    'learning_rate' : [0.0001, 0.01, 0.1, 1.0]}\n",
    "\n",
    "gs = GridSearchCV(classifier, parameters, cv=3, scoring = 'f1', verbose=10, n_jobs=-1, refit=True)\n",
    "\n",
    "gs.fit(X_train,y_train)"
   ]
  },
  {
   "cell_type": "code",
   "execution_count": 38,
   "metadata": {},
   "outputs": [
    {
     "name": "stdout",
     "output_type": "stream",
     "text": [
      "***GRIDSEARCH RESULTS***\n",
      "Best score: 0.684612 using {'learning_rate': 0.01, 'n_estimators': 500}\n",
      "0.669976 (0.002418) with: {'learning_rate': 0.0001, 'n_estimators': 100}\n",
      "0.669976 (0.002418) with: {'learning_rate': 0.0001, 'n_estimators': 500}\n",
      "0.683920 (0.002353) with: {'learning_rate': 0.0001, 'n_estimators': 1000}\n",
      "0.683920 (0.002353) with: {'learning_rate': 0.0001, 'n_estimators': 2000}\n",
      "0.683920 (0.002353) with: {'learning_rate': 0.01, 'n_estimators': 100}\n",
      "0.684612 (0.002244) with: {'learning_rate': 0.01, 'n_estimators': 500}\n",
      "0.677301 (0.002397) with: {'learning_rate': 0.01, 'n_estimators': 1000}\n",
      "0.672453 (0.007206) with: {'learning_rate': 0.01, 'n_estimators': 2000}\n",
      "0.677301 (0.002397) with: {'learning_rate': 0.1, 'n_estimators': 100}\n",
      "0.672758 (0.007672) with: {'learning_rate': 0.1, 'n_estimators': 500}\n",
      "0.672784 (0.007685) with: {'learning_rate': 0.1, 'n_estimators': 1000}\n",
      "0.673026 (0.007999) with: {'learning_rate': 0.1, 'n_estimators': 2000}\n",
      "0.676792 (0.002868) with: {'learning_rate': 1.0, 'n_estimators': 100}\n",
      "0.672813 (0.008431) with: {'learning_rate': 1.0, 'n_estimators': 500}\n",
      "0.674147 (0.007452) with: {'learning_rate': 1.0, 'n_estimators': 1000}\n",
      "0.674605 (0.007764) with: {'learning_rate': 1.0, 'n_estimators': 2000}\n"
     ]
    }
   ],
   "source": [
    "#summarize the results of your GRIDSEARCH\n",
    "print('***GRIDSEARCH RESULTS***')\n",
    "\n",
    "print(\"Best score: %f using %s\" % (gs.best_score_, gs.best_params_))\n",
    "means = gs.cv_results_['mean_test_score']\n",
    "stds = gs.cv_results_['std_test_score']\n",
    "params = gs.cv_results_['params']\n",
    "\n",
    "for mean, stdev, param in zip(means, stds, params):\n",
    "    print(\"%f (%f) with: %r\" % (mean, stdev, param))"
   ]
  },
  {
   "cell_type": "code",
   "execution_count": 39,
   "metadata": {},
   "outputs": [],
   "source": [
    "#TEST ON YOUR TEST SET \n",
    "best_model = gs.best_estimator_\n",
    "y_pred = best_model.predict(X_test)"
   ]
  },
  {
   "cell_type": "code",
   "execution_count": 40,
   "metadata": {},
   "outputs": [
    {
     "data": {
      "image/png": "[encoded data removed]",
      "text/plain": [
       "<Figure size 432x288 with 1 Axes>"
      ]
     },
     "metadata": {
      "needs_background": "light"
     },
     "output_type": "display_data"
    }
   ],
   "source": [
    "# Plot confusion matrix\n",
    "from sklearn.metrics import confusion_matrix\n",
    "sns.heatmap(confusion_matrix(y_test, y_pred), annot=True, fmt='d', cmap=\"Reds\", cbar=False);"
   ]
  },
  {
   "cell_type": "code",
   "execution_count": 41,
   "metadata": {},
   "outputs": [
    {
     "name": "stdout",
     "output_type": "stream",
     "text": [
      "              precision    recall  f1-score   support\n",
      "\n",
      "           0       0.89      0.74      0.81     21001\n",
      "           1       0.59      0.81      0.68      9705\n",
      "\n",
      "    accuracy                           0.76     30706\n",
      "   macro avg       0.74      0.77      0.75     30706\n",
      "weighted avg       0.80      0.76      0.77     30706\n",
      "\n"
     ]
    }
   ],
   "source": [
    "from sklearn.metrics import classification_report\n",
    "\n",
    "print(classification_report(y_test, y_pred))"
   ]
  },
  {
   "cell_type": "code",
   "execution_count": 42,
   "metadata": {},
   "outputs": [
    {
     "name": "stdout",
     "output_type": "stream",
     "text": [
      "f1_score:  0.6759056929269696\n"
     ]
    }
   ],
   "source": [
    "y_pred_train = adaboost.predict(X_train)\n",
    "print(\"f1_score: \", metrics.f1_score(y_train, y_pred_train))"
   ]
  },
  {
   "cell_type": "code",
   "execution_count": 43,
   "metadata": {},
   "outputs": [
    {
     "data": {
      "image/png": "[encoded data removed]",
      "text/plain": [
       "<Figure size 432x288 with 1 Axes>"
      ]
     },
     "metadata": {
      "needs_background": "light"
     },
     "output_type": "display_data"
    },
    {
     "name": "stdout",
     "output_type": "stream",
     "text": [
      "AUC: 0.84\n"
     ]
    }
   ],
   "source": [
    "adaboost = AdaBoostClassifier(n_estimators=500, learning_rate=0.1)\n",
    "\n",
    "adaboost.fit(X_train,y_train)\n",
    "\n",
    "y_probs = adaboost.predict_proba(X_test) #predict_proba gives the probabilities for the target (0 and 1 in your case) \n",
    "\n",
    "fpr, tpr, thresholds=metrics.roc_curve(y_test,  y_probs[:,1])\n",
    "\n",
    "import matplotlib.pyplot as plt\n",
    "plt.plot(fpr, tpr, label='ROC')\n",
    "plt.plot([0, 1], [0, 1], color='darkblue', linestyle='--')\n",
    "plt.xlabel('False Positive Rate')\n",
    "plt.ylabel('True Positive Rate')\n",
    "plt.title('Receiver Operating Characteristic (ROC) Curve')\n",
    "plt.legend()\n",
    "plt.show()\n",
    "\n",
    "auc = metrics.roc_auc_score(y_test, y_probs[:,1])\n",
    "print('AUC: %.2f' % auc)"
   ]
  },
  {
   "cell_type": "code",
   "execution_count": null,
   "metadata": {},
   "outputs": [],
   "source": []
  }
 ],
 "metadata": {
  "kernelspec": {
   "display_name": "Python 3",
   "language": "python",
   "name": "python3"
  },
  "language_info": {
   "codemirror_mode": {
    "name": "ipython",
    "version": 3
   },
   "file_extension": ".py",
   "mimetype": "text/x-python",
   "name": "python",
   "nbconvert_exporter": "python",
   "pygments_lexer": "ipython3",
   "version": "3.8.5"
  }
 },
 "nbformat": 4,
 "nbformat_minor": 4
}
