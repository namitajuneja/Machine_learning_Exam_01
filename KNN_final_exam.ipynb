{
 "cells": [
  {
   "cell_type": "code",
   "execution_count": 1,
   "metadata": {},
   "outputs": [],
   "source": [
    "import pandas as pd\n",
    "import matplotlib.pyplot as plt\n",
    "import seaborn as sns\n"
   ]
  },
  {
   "cell_type": "code",
   "execution_count": 2,
   "metadata": {},
   "outputs": [],
   "source": [
    "df = pd.read_csv(\"Dataset.csv\")"
   ]
  },
  {
   "cell_type": "code",
   "execution_count": 3,
   "metadata": {},
   "outputs": [
    {
     "data": {
      "text/html": [
       "<div>\n",
       "<style scoped>\n",
       "    .dataframe tbody tr th:only-of-type {\n",
       "        vertical-align: middle;\n",
       "    }\n",
       "\n",
       "    .dataframe tbody tr th {\n",
       "        vertical-align: top;\n",
       "    }\n",
       "\n",
       "    .dataframe thead th {\n",
       "        text-align: right;\n",
       "    }\n",
       "</style>\n",
       "<table border=\"1\" class=\"dataframe\">\n",
       "  <thead>\n",
       "    <tr style=\"text-align: right;\">\n",
       "      <th></th>\n",
       "      <th>Prev_Insured_binary</th>\n",
       "      <th>Vehicle_damage_binary</th>\n",
       "      <th>&lt; 1 Year</th>\n",
       "      <th>&gt; 2 Years</th>\n",
       "      <th>Age_scaled</th>\n",
       "      <th>Target</th>\n",
       "    </tr>\n",
       "  </thead>\n",
       "  <tbody>\n",
       "    <tr>\n",
       "      <th>0</th>\n",
       "      <td>0</td>\n",
       "      <td>1</td>\n",
       "      <td>0</td>\n",
       "      <td>0</td>\n",
       "      <td>0.369231</td>\n",
       "      <td>0</td>\n",
       "    </tr>\n",
       "    <tr>\n",
       "      <th>1</th>\n",
       "      <td>1</td>\n",
       "      <td>0</td>\n",
       "      <td>1</td>\n",
       "      <td>0</td>\n",
       "      <td>0.046154</td>\n",
       "      <td>0</td>\n",
       "    </tr>\n",
       "    <tr>\n",
       "      <th>2</th>\n",
       "      <td>0</td>\n",
       "      <td>1</td>\n",
       "      <td>0</td>\n",
       "      <td>0</td>\n",
       "      <td>0.353846</td>\n",
       "      <td>0</td>\n",
       "    </tr>\n",
       "    <tr>\n",
       "      <th>3</th>\n",
       "      <td>1</td>\n",
       "      <td>0</td>\n",
       "      <td>0</td>\n",
       "      <td>0</td>\n",
       "      <td>0.615385</td>\n",
       "      <td>0</td>\n",
       "    </tr>\n",
       "    <tr>\n",
       "      <th>4</th>\n",
       "      <td>0</td>\n",
       "      <td>1</td>\n",
       "      <td>0</td>\n",
       "      <td>0</td>\n",
       "      <td>0.338462</td>\n",
       "      <td>0</td>\n",
       "    </tr>\n",
       "  </tbody>\n",
       "</table>\n",
       "</div>"
      ],
      "text/plain": [
       "   Prev_Insured_binary  Vehicle_damage_binary  < 1 Year  > 2 Years  \\\n",
       "0                    0                      1         0          0   \n",
       "1                    1                      0         1          0   \n",
       "2                    0                      1         0          0   \n",
       "3                    1                      0         0          0   \n",
       "4                    0                      1         0          0   \n",
       "\n",
       "   Age_scaled  Target  \n",
       "0    0.369231       0  \n",
       "1    0.046154       0  \n",
       "2    0.353846       0  \n",
       "3    0.615385       0  \n",
       "4    0.338462       0  "
      ]
     },
     "execution_count": 3,
     "metadata": {},
     "output_type": "execute_result"
    }
   ],
   "source": [
    "df.head()"
   ]
  },
  {
   "cell_type": "code",
   "execution_count": 6,
   "metadata": {},
   "outputs": [
    {
     "name": "stdout",
     "output_type": "stream",
     "text": [
      "Target\n",
      "0    69878\n",
      "1    32473\n",
      "dtype: int64\n"
     ]
    },
    {
     "data": {
      "text/plain": [
       "<AxesSubplot:title={'center':'Distribution of target'}, xlabel='Target'>"
      ]
     },
     "execution_count": 6,
     "metadata": {},
     "output_type": "execute_result"
    },
    {
     "data": {
      "image/png": "[encoded data removed]",
      "text/plain": [
       "<Figure size 432x288 with 1 Axes>"
      ]
     },
     "metadata": {
      "needs_background": "light"
     },
     "output_type": "display_data"
    }
   ],
   "source": [
    "#Print class freq. through pandas: we group the data by the column target and we count the number of rows \n",
    "target_dist=df.groupby('Target').size()\n",
    "print(target_dist)\n",
    "\n",
    "#some imports to plot \n",
    "import matplotlib.pyplot as plt\n",
    "import seaborn as sns\n",
    "%matplotlib inline\n",
    "\n",
    "#Visualize Class Counts\n",
    "target_dist.plot.bar(x='',y='',title='Distribution of target')"
   ]
  },
  {
   "cell_type": "code",
   "execution_count": 7,
   "metadata": {},
   "outputs": [],
   "source": [
    "#Separate X and y (explanatory variables and target variable)\n",
    "X = df.iloc[:,0:-1]\n",
    "y = df.iloc[:,-1] #[-1]]\n",
    "\n",
    "#X.head()\n",
    "#y.head()"
   ]
  },
  {
   "cell_type": "code",
   "execution_count": 8,
   "metadata": {},
   "outputs": [
    {
     "name": "stdout",
     "output_type": "stream",
     "text": [
      "(71645, 5) (30706, 5)\n"
     ]
    }
   ],
   "source": [
    "from sklearn.model_selection import train_test_split\n",
    "\n",
    "#SPLIT DATA INTO TRAIN AND TEST SET\n",
    "X_train, X_test, y_train, y_test = train_test_split(X, y, \n",
    "                                                    test_size =0.30, #by default is 75%-25%\n",
    "                                                    #shuffle is set True by default,\n",
    "                                                    stratify=y,\n",
    "                                                    random_state= 123\n",
    "                                                   ) #fix random seed for replicability\n",
    "\n",
    "print(X_train.shape,X_test.shape)"
   ]
  },
  {
   "cell_type": "code",
   "execution_count": 9,
   "metadata": {},
   "outputs": [
    {
     "data": {
      "image/png": "[encoded data removed]",
      "text/plain": [
       "<Figure size 432x288 with 1 Axes>"
      ]
     },
     "metadata": {
      "needs_background": "light"
     },
     "output_type": "display_data"
    }
   ],
   "source": [
    "y_train_dist=y_train.groupby(y_train.iloc[:]).size()/y_train.size\n",
    "y_test_dist=y_test.groupby(y_test.iloc[:]).size()/y_test.size\n",
    "\n",
    "train_test_dist = pd.DataFrame({'train': y_train_dist, 'test': y_test_dist})\n",
    "ax = train_test_dist.plot.bar(rot=0) # rotation of the labels"
   ]
  },
  {
   "cell_type": "code",
   "execution_count": 13,
   "metadata": {},
   "outputs": [],
   "source": [
    "#DEFINE YOUR CLASSIFIER and THE PARAMETERS GRID\n",
    "from sklearn.neighbors import KNeighborsClassifier\n",
    "import numpy as np\n",
    "\n",
    "#Create KNN Classifier\n",
    "knn3 = KNeighborsClassifier(n_neighbors=3)\n",
    "\n",
    "#Train the model using the training sets\n",
    "knn3.fit(X_train, y_train)\n",
    "\n",
    "#Predict the response for test dataset\n",
    "y_pred = knn3.predict(X_test)\n"
   ]
  },
  {
   "cell_type": "code",
   "execution_count": 15,
   "metadata": {},
   "outputs": [
    {
     "data": {
      "text/plain": [
       "array([0, 0, 1, ..., 0, 0, 0])"
      ]
     },
     "execution_count": 15,
     "metadata": {},
     "output_type": "execute_result"
    }
   ],
   "source": [
    "y_pred"
   ]
  },
  {
   "cell_type": "code",
   "execution_count": 16,
   "metadata": {},
   "outputs": [
    {
     "name": "stdout",
     "output_type": "stream",
     "text": [
      "[[16856  4108]\n",
      " [ 3887  5855]]\n"
     ]
    }
   ],
   "source": [
    "from sklearn.metrics import confusion_matrix\n",
    "print(confusion_matrix(y_test, y_pred))"
   ]
  },
  {
   "cell_type": "code",
   "execution_count": 18,
   "metadata": {},
   "outputs": [],
   "source": [
    "from sklearn.model_selection import GridSearchCV\n",
    "\n",
    "#Create KNN Classifier\n",
    "classifier = KNeighborsClassifier()\n",
    "parameters = {'n_neighbors':np.arange(1,40)}\n",
    "\n",
    "gs = GridSearchCV(classifier, parameters, cv=3, scoring = 'f1', verbose=90, n_jobs=-1, refit='f1')"
   ]
  },
  {
   "cell_type": "code",
   "execution_count": 19,
   "metadata": {},
   "outputs": [
    {
     "name": "stdout",
     "output_type": "stream",
     "text": [
      "Fitting 3 folds for each of 39 candidates, totalling 117 fits\n",
      "[Parallel(n_jobs=-1)]: Using backend LokyBackend with 4 concurrent workers.\n",
      "[Parallel(n_jobs=-1)]: Done   1 tasks      | elapsed:   35.5s\n",
      "[Parallel(n_jobs=-1)]: Done   2 tasks      | elapsed:   35.5s\n",
      "[Parallel(n_jobs=-1)]: Done   3 tasks      | elapsed:   35.6s\n",
      "[Parallel(n_jobs=-1)]: Done   4 tasks      | elapsed:   35.8s\n",
      "[Parallel(n_jobs=-1)]: Done   5 tasks      | elapsed:  1.0min\n",
      "[Parallel(n_jobs=-1)]: Done   6 tasks      | elapsed:  1.0min\n",
      "[Parallel(n_jobs=-1)]: Done   7 tasks      | elapsed:  1.0min\n",
      "[Parallel(n_jobs=-1)]: Done   8 tasks      | elapsed:  1.0min\n",
      "[Parallel(n_jobs=-1)]: Done   9 tasks      | elapsed:  1.4min\n",
      "[Parallel(n_jobs=-1)]: Done  10 tasks      | elapsed:  1.4min\n",
      "[Parallel(n_jobs=-1)]: Done  11 tasks      | elapsed:  1.4min\n",
      "[Parallel(n_jobs=-1)]: Done  12 tasks      | elapsed:  1.4min\n",
      "[Parallel(n_jobs=-1)]: Done  13 tasks      | elapsed:  1.7min\n",
      "[Parallel(n_jobs=-1)]: Done  14 tasks      | elapsed:  1.7min\n",
      "[Parallel(n_jobs=-1)]: Done  15 tasks      | elapsed:  1.8min\n",
      "[Parallel(n_jobs=-1)]: Done  16 tasks      | elapsed:  1.8min\n",
      "[Parallel(n_jobs=-1)]: Done  17 tasks      | elapsed:  2.0min\n",
      "[Parallel(n_jobs=-1)]: Done  18 tasks      | elapsed:  2.0min\n",
      "[Parallel(n_jobs=-1)]: Done  19 tasks      | elapsed:  2.0min\n",
      "[Parallel(n_jobs=-1)]: Done  20 tasks      | elapsed:  2.0min\n",
      "[Parallel(n_jobs=-1)]: Done  21 tasks      | elapsed:  2.3min\n",
      "[Parallel(n_jobs=-1)]: Done  22 tasks      | elapsed:  2.4min\n",
      "[Parallel(n_jobs=-1)]: Done  23 tasks      | elapsed:  2.4min\n",
      "[Parallel(n_jobs=-1)]: Done  24 tasks      | elapsed:  2.4min\n",
      "[Parallel(n_jobs=-1)]: Done  25 tasks      | elapsed:  2.7min\n",
      "[Parallel(n_jobs=-1)]: Done  26 tasks      | elapsed:  2.7min\n",
      "[Parallel(n_jobs=-1)]: Done  27 tasks      | elapsed:  2.7min\n",
      "[Parallel(n_jobs=-1)]: Done  28 tasks      | elapsed:  2.7min\n",
      "[Parallel(n_jobs=-1)]: Done  29 tasks      | elapsed:  3.0min\n",
      "[Parallel(n_jobs=-1)]: Done  30 tasks      | elapsed:  3.0min\n",
      "[Parallel(n_jobs=-1)]: Done  31 tasks      | elapsed:  3.0min\n",
      "[Parallel(n_jobs=-1)]: Done  32 tasks      | elapsed:  3.0min\n",
      "[Parallel(n_jobs=-1)]: Done  33 tasks      | elapsed:  3.2min\n",
      "[Parallel(n_jobs=-1)]: Done  34 tasks      | elapsed:  3.3min\n",
      "[Parallel(n_jobs=-1)]: Done  35 tasks      | elapsed:  3.3min\n",
      "[Parallel(n_jobs=-1)]: Done  36 tasks      | elapsed:  3.3min\n",
      "[Parallel(n_jobs=-1)]: Done  37 tasks      | elapsed:  3.5min\n",
      "[Parallel(n_jobs=-1)]: Done  38 tasks      | elapsed:  3.5min\n",
      "[Parallel(n_jobs=-1)]: Done  39 tasks      | elapsed:  3.6min\n",
      "[Parallel(n_jobs=-1)]: Done  40 tasks      | elapsed:  3.6min\n",
      "[Parallel(n_jobs=-1)]: Done  41 tasks      | elapsed:  3.7min\n",
      "[Parallel(n_jobs=-1)]: Done  42 tasks      | elapsed:  3.8min\n",
      "[Parallel(n_jobs=-1)]: Done  43 tasks      | elapsed:  3.8min\n",
      "[Parallel(n_jobs=-1)]: Done  44 tasks      | elapsed:  3.8min\n",
      "[Parallel(n_jobs=-1)]: Done  45 tasks      | elapsed:  4.0min\n",
      "[Parallel(n_jobs=-1)]: Done  46 tasks      | elapsed:  4.1min\n",
      "[Parallel(n_jobs=-1)]: Done  47 tasks      | elapsed:  4.1min\n",
      "[Parallel(n_jobs=-1)]: Done  48 tasks      | elapsed:  4.1min\n",
      "[Parallel(n_jobs=-1)]: Done  49 tasks      | elapsed:  4.3min\n",
      "[Parallel(n_jobs=-1)]: Done  50 tasks      | elapsed:  4.3min\n",
      "[Parallel(n_jobs=-1)]: Done  51 tasks      | elapsed:  4.4min\n",
      "[Parallel(n_jobs=-1)]: Done  52 tasks      | elapsed:  4.4min\n",
      "[Parallel(n_jobs=-1)]: Done  53 tasks      | elapsed:  4.5min\n",
      "[Parallel(n_jobs=-1)]: Done  54 tasks      | elapsed:  4.6min\n",
      "[Parallel(n_jobs=-1)]: Done  55 tasks      | elapsed:  4.6min\n",
      "[Parallel(n_jobs=-1)]: Done  56 tasks      | elapsed:  4.6min\n",
      "[Parallel(n_jobs=-1)]: Done  57 tasks      | elapsed:  4.8min\n",
      "[Parallel(n_jobs=-1)]: Done  58 tasks      | elapsed:  4.9min\n",
      "[Parallel(n_jobs=-1)]: Done  59 tasks      | elapsed:  4.9min\n",
      "[Parallel(n_jobs=-1)]: Done  60 tasks      | elapsed:  4.9min\n",
      "[Parallel(n_jobs=-1)]: Done  61 tasks      | elapsed:  5.0min\n",
      "[Parallel(n_jobs=-1)]: Done  62 tasks      | elapsed:  5.1min\n",
      "[Parallel(n_jobs=-1)]: Done  63 tasks      | elapsed:  5.2min\n",
      "[Parallel(n_jobs=-1)]: Done  64 tasks      | elapsed:  5.2min\n",
      "[Parallel(n_jobs=-1)]: Done  65 tasks      | elapsed:  5.3min\n",
      "[Parallel(n_jobs=-1)]: Done  66 tasks      | elapsed:  5.4min\n",
      "[Parallel(n_jobs=-1)]: Done  67 tasks      | elapsed:  5.4min\n",
      "[Parallel(n_jobs=-1)]: Done  68 tasks      | elapsed:  5.4min\n",
      "[Parallel(n_jobs=-1)]: Done  69 tasks      | elapsed:  5.5min\n",
      "[Parallel(n_jobs=-1)]: Done  70 tasks      | elapsed:  5.6min\n",
      "[Parallel(n_jobs=-1)]: Done  71 tasks      | elapsed:  5.7min\n",
      "[Parallel(n_jobs=-1)]: Done  72 tasks      | elapsed:  5.7min\n",
      "[Parallel(n_jobs=-1)]: Done  73 tasks      | elapsed:  5.8min\n",
      "[Parallel(n_jobs=-1)]: Done  74 tasks      | elapsed:  5.9min\n",
      "[Parallel(n_jobs=-1)]: Done  75 tasks      | elapsed:  6.0min\n",
      "[Parallel(n_jobs=-1)]: Done  76 tasks      | elapsed:  6.0min\n",
      "[Parallel(n_jobs=-1)]: Done  77 tasks      | elapsed:  6.1min\n",
      "[Parallel(n_jobs=-1)]: Done  78 tasks      | elapsed:  6.2min\n",
      "[Parallel(n_jobs=-1)]: Done  79 tasks      | elapsed:  6.3min\n",
      "[Parallel(n_jobs=-1)]: Done  80 tasks      | elapsed:  6.3min\n",
      "[Parallel(n_jobs=-1)]: Done  81 tasks      | elapsed:  6.4min\n",
      "[Parallel(n_jobs=-1)]: Done  82 tasks      | elapsed:  6.5min\n",
      "[Parallel(n_jobs=-1)]: Done  83 tasks      | elapsed:  6.6min\n",
      "[Parallel(n_jobs=-1)]: Done  84 tasks      | elapsed:  6.6min\n",
      "[Parallel(n_jobs=-1)]: Done  85 tasks      | elapsed:  6.6min\n",
      "[Parallel(n_jobs=-1)]: Done  86 tasks      | elapsed:  6.7min\n",
      "[Parallel(n_jobs=-1)]: Done  87 tasks      | elapsed:  6.9min\n",
      "[Parallel(n_jobs=-1)]: Done  88 tasks      | elapsed:  6.9min\n",
      "[Parallel(n_jobs=-1)]: Done  89 tasks      | elapsed:  7.0min\n",
      "[Parallel(n_jobs=-1)]: Done  90 tasks      | elapsed:  7.1min\n",
      "[Parallel(n_jobs=-1)]: Done  91 tasks      | elapsed:  7.2min\n",
      "[Parallel(n_jobs=-1)]: Done  92 tasks      | elapsed:  7.2min\n",
      "[Parallel(n_jobs=-1)]: Done  93 tasks      | elapsed:  7.3min\n",
      "[Parallel(n_jobs=-1)]: Done  94 tasks      | elapsed:  7.4min\n",
      "[Parallel(n_jobs=-1)]: Done  95 tasks      | elapsed:  7.5min\n",
      "[Parallel(n_jobs=-1)]: Done  96 tasks      | elapsed:  7.6min\n",
      "[Parallel(n_jobs=-1)]: Done  97 tasks      | elapsed:  7.6min\n",
      "[Parallel(n_jobs=-1)]: Done  98 tasks      | elapsed:  7.7min\n",
      "[Parallel(n_jobs=-1)]: Done  99 tasks      | elapsed:  7.9min\n",
      "[Parallel(n_jobs=-1)]: Done 100 tasks      | elapsed:  7.9min\n",
      "[Parallel(n_jobs=-1)]: Done 101 tasks      | elapsed:  7.9min\n",
      "[Parallel(n_jobs=-1)]: Done 102 tasks      | elapsed:  8.0min\n",
      "[Parallel(n_jobs=-1)]: Done 103 tasks      | elapsed:  8.2min\n",
      "[Parallel(n_jobs=-1)]: Done 104 tasks      | elapsed:  8.2min\n",
      "[Parallel(n_jobs=-1)]: Done 105 tasks      | elapsed:  8.2min\n",
      "[Parallel(n_jobs=-1)]: Done 106 tasks      | elapsed:  8.3min\n",
      "[Parallel(n_jobs=-1)]: Done 107 tasks      | elapsed:  8.5min\n",
      "[Parallel(n_jobs=-1)]: Done 108 tasks      | elapsed:  8.5min\n",
      "[Parallel(n_jobs=-1)]: Done 109 tasks      | elapsed:  8.5min\n",
      "[Parallel(n_jobs=-1)]: Done 110 tasks      | elapsed:  8.6min\n",
      "[Parallel(n_jobs=-1)]: Done 112 out of 117 | elapsed:  8.8min remaining:   23.6s\n",
      "[Parallel(n_jobs=-1)]: Done 114 out of 117 | elapsed:  8.9min remaining:   14.0s\n",
      "[Parallel(n_jobs=-1)]: Done 117 out of 117 | elapsed:  9.1min finished\n"
     ]
    }
   ],
   "source": [
    "#TRAIN YOUR CLASSIFIER\n",
    "gs = gs.fit(X_train, y_train)"
   ]
  },
  {
   "cell_type": "code",
   "execution_count": 20,
   "metadata": {},
   "outputs": [
    {
     "name": "stdout",
     "output_type": "stream",
     "text": [
      "Best score: 0.658388 using {'n_neighbors': 37}\n",
      "Mean 0.514847 Std (0.039820) with: {'n_neighbors': 1}\n",
      "Mean 0.381481 Std (0.019359) with: {'n_neighbors': 2}\n",
      "Mean 0.556867 Std (0.018631) with: {'n_neighbors': 3}\n",
      "Mean 0.426106 Std (0.027088) with: {'n_neighbors': 4}\n",
      "Mean 0.550943 Std (0.019559) with: {'n_neighbors': 5}\n",
      "Mean 0.466576 Std (0.024011) with: {'n_neighbors': 6}\n",
      "Mean 0.573503 Std (0.008744) with: {'n_neighbors': 7}\n",
      "Mean 0.518979 Std (0.022819) with: {'n_neighbors': 8}\n",
      "Mean 0.562082 Std (0.022216) with: {'n_neighbors': 9}\n",
      "Mean 0.500531 Std (0.039404) with: {'n_neighbors': 10}\n",
      "Mean 0.570450 Std (0.042888) with: {'n_neighbors': 11}\n",
      "Mean 0.528262 Std (0.050198) with: {'n_neighbors': 12}\n",
      "Mean 0.588632 Std (0.032222) with: {'n_neighbors': 13}\n",
      "Mean 0.573006 Std (0.036157) with: {'n_neighbors': 14}\n",
      "Mean 0.611586 Std (0.012145) with: {'n_neighbors': 15}\n",
      "Mean 0.568398 Std (0.029900) with: {'n_neighbors': 16}\n",
      "Mean 0.612560 Std (0.012136) with: {'n_neighbors': 17}\n",
      "Mean 0.571981 Std (0.025567) with: {'n_neighbors': 18}\n",
      "Mean 0.631339 Std (0.006762) with: {'n_neighbors': 19}\n",
      "Mean 0.590631 Std (0.031014) with: {'n_neighbors': 20}\n",
      "Mean 0.631126 Std (0.011176) with: {'n_neighbors': 21}\n",
      "Mean 0.612622 Std (0.021520) with: {'n_neighbors': 22}\n",
      "Mean 0.642964 Std (0.019335) with: {'n_neighbors': 23}\n",
      "Mean 0.613662 Std (0.029970) with: {'n_neighbors': 24}\n",
      "Mean 0.642991 Std (0.017964) with: {'n_neighbors': 25}\n",
      "Mean 0.617815 Std (0.025120) with: {'n_neighbors': 26}\n",
      "Mean 0.643997 Std (0.019022) with: {'n_neighbors': 27}\n",
      "Mean 0.626207 Std (0.021451) with: {'n_neighbors': 28}\n",
      "Mean 0.639946 Std (0.014550) with: {'n_neighbors': 29}\n",
      "Mean 0.635455 Std (0.014943) with: {'n_neighbors': 30}\n",
      "Mean 0.640231 Std (0.014410) with: {'n_neighbors': 31}\n",
      "Mean 0.629010 Std (0.012061) with: {'n_neighbors': 32}\n",
      "Mean 0.638519 Std (0.017531) with: {'n_neighbors': 33}\n",
      "Mean 0.631570 Std (0.017728) with: {'n_neighbors': 34}\n",
      "Mean 0.651565 Std (0.013254) with: {'n_neighbors': 35}\n",
      "Mean 0.648512 Std (0.015076) with: {'n_neighbors': 36}\n",
      "Mean 0.658388 Std (0.015571) with: {'n_neighbors': 37}\n",
      "Mean 0.642754 Std (0.016500) with: {'n_neighbors': 38}\n",
      "Mean 0.654044 Std (0.017469) with: {'n_neighbors': 39}\n"
     ]
    }
   ],
   "source": [
    "#summarize the results of your GRIDSEARCH\n",
    "print(\"Best score: %f using %s\" % (gs.best_score_, gs.best_params_))\n",
    "\n",
    "means = gs.cv_results_['mean_test_score']\n",
    "stds = gs.cv_results_['std_test_score']\n",
    "params = gs.cv_results_['params']\n",
    "for mean, stdev, param in zip(means, stds, params):\n",
    "    print(\"Mean %f Std (%f) with: %r\" % (mean, stdev, param))"
   ]
  },
  {
   "cell_type": "code",
   "execution_count": 21,
   "metadata": {},
   "outputs": [
    {
     "data": {
      "image/png": "[encoded data removed]",
      "text/plain": [
       "<Figure size 432x288 with 1 Axes>"
      ]
     },
     "metadata": {
      "needs_background": "light"
     },
     "output_type": "display_data"
    },
    {
     "name": "stdout",
     "output_type": "stream",
     "text": [
      "0.6583883336065898\n"
     ]
    }
   ],
   "source": [
    "import matplotlib.pyplot as plt\n",
    "\n",
    "plt.plot (means, color='blue', alpha=1.00)\n",
    "plt.show()\n",
    "\n",
    "print(gs.best_score_)"
   ]
  },
  {
   "cell_type": "code",
   "execution_count": 22,
   "metadata": {},
   "outputs": [],
   "source": [
    "#TEST ON YOUR TEST SET \n",
    "best_model = gs.best_estimator_\n",
    "\n",
    "y_pred_train = best_model.predict(X_train)\n",
    "y_pred = best_model.predict(X_test)"
   ]
  },
  {
   "cell_type": "code",
   "execution_count": 23,
   "metadata": {},
   "outputs": [
    {
     "data": {
      "text/plain": [
       "array([0, 0, 1, ..., 0, 0, 0])"
      ]
     },
     "execution_count": 23,
     "metadata": {},
     "output_type": "execute_result"
    }
   ],
   "source": [
    "#This is your prediction on the TEST SET\n",
    "y_pred"
   ]
  },
  {
   "cell_type": "code",
   "execution_count": 24,
   "metadata": {},
   "outputs": [
    {
     "name": "stdout",
     "output_type": "stream",
     "text": [
      "***RESULTS ON TEST SET***\n",
      "precision:  0.5986256044795113\n",
      "recall:  0.7242865941285157\n",
      "f1_score:  0.6554879464907799\n",
      "accuracy:  0.7584511170455286\n"
     ]
    }
   ],
   "source": [
    "#EVALUATE YOUR PREDICTION (on the y_test that you left aside)\n",
    "from sklearn import metrics \n",
    "\n",
    "print('***RESULTS ON TEST SET***')\n",
    "print(\"precision: \", metrics.precision_score(y_test, y_pred)) # tp / (tp + fp)\n",
    "print(\"recall: \", metrics.recall_score(y_test, y_pred)) # tp / (tp + fn)\n",
    "print(\"f1_score: \", metrics.f1_score(y_test, y_pred)) #F1 = 2 * (precision * recall) / (precision + recall)\n",
    "print(\"accuracy: \", metrics.accuracy_score(y_test, y_pred)) # (tp+tn)/m\n"
   ]
  },
  {
   "cell_type": "code",
   "execution_count": 25,
   "metadata": {},
   "outputs": [
    {
     "name": "stdout",
     "output_type": "stream",
     "text": [
      "***RESULTS ON TRAIN SET***\n",
      "precision:  0.60386630532972\n",
      "recall:  0.735207425982139\n",
      "f1_score:  0.6630956632146966\n",
      "accuracy:  0.7629702002931119\n"
     ]
    }
   ],
   "source": [
    "y_pred_train = best_model.predict(X_train)\n",
    "\n",
    "print('***RESULTS ON TRAIN SET***')\n",
    "print(\"precision: \", metrics.precision_score(y_train, y_pred_train)) # tp / (tp + fp)\n",
    "print(\"recall: \", metrics.recall_score(y_train, y_pred_train)) # tp / (tp + fn)\n",
    "print(\"f1_score: \", metrics.f1_score(y_train, y_pred_train)) #F1 = 2 * (precision * recall) / (precision + recall)\n",
    "print(\"accuracy: \", metrics.accuracy_score(y_train, y_pred_train)) # (tp+tn)/m"
   ]
  },
  {
   "cell_type": "code",
   "execution_count": 26,
   "metadata": {},
   "outputs": [
    {
     "name": "stdout",
     "output_type": "stream",
     "text": [
      "              precision    recall  f1-score   support\n",
      "\n",
      "           0       0.86      0.77      0.81     20964\n",
      "           1       0.60      0.72      0.66      9742\n",
      "\n",
      "    accuracy                           0.76     30706\n",
      "   macro avg       0.73      0.75      0.73     30706\n",
      "weighted avg       0.78      0.76      0.76     30706\n",
      "\n"
     ]
    }
   ],
   "source": [
    "#PRINT SOME FURTHER METRICS\n",
    "from sklearn.metrics import classification_report\n",
    "print(classification_report(y_test, y_pred))"
   ]
  },
  {
   "cell_type": "code",
   "execution_count": 27,
   "metadata": {},
   "outputs": [
    {
     "name": "stdout",
     "output_type": "stream",
     "text": [
      "[[16233  4731]\n",
      " [ 2686  7056]]\n"
     ]
    }
   ],
   "source": [
    "from sklearn.metrics import confusion_matrix\n",
    "print(confusion_matrix(y_test, y_pred))"
   ]
  },
  {
   "cell_type": "code",
   "execution_count": 28,
   "metadata": {},
   "outputs": [
    {
     "data": {
      "image/png": "[encoded data removed]",
      "text/plain": [
       "<Figure size 432x288 with 2 Axes>"
      ]
     },
     "metadata": {
      "needs_background": "light"
     },
     "output_type": "display_data"
    }
   ],
   "source": [
    "# Plot normalized confusion matrix\n",
    "sns.heatmap(confusion_matrix(y_test, y_pred), annot=True, fmt='d', cmap=\"Reds\"); #annot=True to annotate cells fmt: format\n"
   ]
  },
  {
   "cell_type": "code",
   "execution_count": 29,
   "metadata": {},
   "outputs": [
    {
     "data": {
      "image/png": "[encoded data removed]",
      "text/plain": [
       "<Figure size 432x288 with 1 Axes>"
      ]
     },
     "metadata": {
      "needs_background": "light"
     },
     "output_type": "display_data"
    }
   ],
   "source": [
    "score_train=[]\n",
    "score_test=[]\n",
    "\n",
    "neighbors=range(1,180,10)\n",
    "\n",
    "for i in neighbors:\n",
    "    knn = KNeighborsClassifier(n_neighbors=i)\n",
    "    knn.fit(X_train,y_train)\n",
    "    y_pred_train = knn.predict(X_train)\n",
    "    y_pred_test = knn.predict(X_test)\n",
    "    score_train.append( metrics.f1_score(y_train, y_pred_train))\n",
    "    score_test.append( metrics.f1_score(y_test, y_pred_test))\n",
    "\n",
    "\n",
    "plt.plot (neighbors,score_train, color='blue', alpha=1.00)\n",
    "plt.plot (neighbors,score_test, color='red', alpha=1.00)\n",
    "plt.show()\n"
   ]
  },
  {
   "cell_type": "code",
   "execution_count": 30,
   "metadata": {},
   "outputs": [
    {
     "data": {
      "image/png": "[encoded data removed]",
      "text/plain": [
       "<Figure size 432x288 with 1 Axes>"
      ]
     },
     "metadata": {
      "needs_background": "light"
     },
     "output_type": "display_data"
    },
    {
     "name": "stdout",
     "output_type": "stream",
     "text": [
      "AUC: 0.83\n"
     ]
    }
   ],
   "source": [
    "model = KNeighborsClassifier(n_neighbors=36)\n",
    "model.fit(X_train, y_train)\n",
    "y_pred = model.predict(X_test)\n",
    "\n",
    "y_probs = model.predict_proba(X_test) #predict_proba gives the probabilities for the target (0 and 1 in your case) \n",
    "\n",
    "fpr, tpr, thresholds=metrics.roc_curve(y_test,  y_probs[:,1])\n",
    "\n",
    "import matplotlib.pyplot as plt\n",
    "plt.plot(fpr, tpr, label='ROC')\n",
    "plt.plot([0, 1], [0, 1], color='darkblue', linestyle='--')\n",
    "plt.xlabel('False Positive Rate')\n",
    "plt.ylabel('True Positive Rate')\n",
    "plt.title('Receiver Operating Characteristic (ROC) Curve')\n",
    "plt.legend()\n",
    "plt.show()\n",
    "\n",
    "auc = metrics.roc_auc_score(y_test, y_probs[:,1])\n",
    "print('AUC: %.2f' % auc)"
   ]
  },
  {
   "cell_type": "code",
   "execution_count": null,
   "metadata": {},
   "outputs": [],
   "source": []
  }
 ],
 "metadata": {
  "kernelspec": {
   "display_name": "Python 3",
   "language": "python",
   "name": "python3"
  },
  "language_info": {
   "codemirror_mode": {
    "name": "ipython",
    "version": 3
   },
   "file_extension": ".py",
   "mimetype": "text/x-python",
   "name": "python",
   "nbconvert_exporter": "python",
   "pygments_lexer": "ipython3",
   "version": "3.8.5"
  }
 },
 "nbformat": 4,
 "nbformat_minor": 4
}
