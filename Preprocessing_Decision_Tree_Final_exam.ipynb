{
 "cells": [
  {
   "cell_type": "markdown",
   "metadata": {},
   "source": [
    "# EXPLORATORY DATA ANALYSIS"
   ]
  },
  {
   "cell_type": "markdown",
   "metadata": {},
   "source": [
    "## Import of the relevant libraries"
   ]
  },
  {
   "cell_type": "code",
   "execution_count": 30,
   "metadata": {},
   "outputs": [],
   "source": [
    "import pandas as pd\n",
    "import seaborn as sns\n",
    "import matplotlib.pyplot as plt\n",
    "import numpy as np\n",
    "import warnings\n",
    "warnings.filterwarnings('ignore')"
   ]
  },
  {
   "cell_type": "markdown",
   "metadata": {},
   "source": [
    "## Import of the dataset"
   ]
  },
  {
   "cell_type": "code",
   "execution_count": 31,
   "metadata": {},
   "outputs": [],
   "source": [
    "df = pd.read_csv(\"model.csv\")"
   ]
  },
  {
   "cell_type": "markdown",
   "metadata": {},
   "source": [
    "## Preview of the dataset (head and shape)"
   ]
  },
  {
   "cell_type": "code",
   "execution_count": 32,
   "metadata": {},
   "outputs": [
    {
     "data": {
      "text/html": [
       "<div>\n",
       "<style scoped>\n",
       "    .dataframe tbody tr th:only-of-type {\n",
       "        vertical-align: middle;\n",
       "    }\n",
       "\n",
       "    .dataframe tbody tr th {\n",
       "        vertical-align: top;\n",
       "    }\n",
       "\n",
       "    .dataframe thead th {\n",
       "        text-align: right;\n",
       "    }\n",
       "</style>\n",
       "<table border=\"1\" class=\"dataframe\">\n",
       "  <thead>\n",
       "    <tr style=\"text-align: right;\">\n",
       "      <th></th>\n",
       "      <th>id</th>\n",
       "      <th>Gender</th>\n",
       "      <th>Age</th>\n",
       "      <th>Driving_License</th>\n",
       "      <th>Licence_Type</th>\n",
       "      <th>Region_Code</th>\n",
       "      <th>Previously_Insured</th>\n",
       "      <th>Vehicle_Age</th>\n",
       "      <th>Vehicle_Damage</th>\n",
       "      <th>Annual_Premium</th>\n",
       "      <th>Policy_Sales_Channel</th>\n",
       "      <th>Seniority</th>\n",
       "      <th>Target</th>\n",
       "    </tr>\n",
       "  </thead>\n",
       "  <tbody>\n",
       "    <tr>\n",
       "      <th>0</th>\n",
       "      <td>1</td>\n",
       "      <td>Female</td>\n",
       "      <td>44</td>\n",
       "      <td>1</td>\n",
       "      <td>M</td>\n",
       "      <td>30</td>\n",
       "      <td>No</td>\n",
       "      <td>1-2 Year</td>\n",
       "      <td>Yes</td>\n",
       "      <td>25741</td>\n",
       "      <td>154</td>\n",
       "      <td>152</td>\n",
       "      <td>0</td>\n",
       "    </tr>\n",
       "    <tr>\n",
       "      <th>1</th>\n",
       "      <td>2</td>\n",
       "      <td>Male</td>\n",
       "      <td>23</td>\n",
       "      <td>1</td>\n",
       "      <td>M</td>\n",
       "      <td>3</td>\n",
       "      <td>Yes</td>\n",
       "      <td>&lt; 1 Year</td>\n",
       "      <td>No</td>\n",
       "      <td>2630</td>\n",
       "      <td>152</td>\n",
       "      <td>256</td>\n",
       "      <td>0</td>\n",
       "    </tr>\n",
       "    <tr>\n",
       "      <th>2</th>\n",
       "      <td>3</td>\n",
       "      <td>Male</td>\n",
       "      <td>43</td>\n",
       "      <td>1</td>\n",
       "      <td>C</td>\n",
       "      <td>28</td>\n",
       "      <td>No</td>\n",
       "      <td>1-2 Year</td>\n",
       "      <td>Yes</td>\n",
       "      <td>70720</td>\n",
       "      <td>52</td>\n",
       "      <td>224</td>\n",
       "      <td>0</td>\n",
       "    </tr>\n",
       "    <tr>\n",
       "      <th>3</th>\n",
       "      <td>4</td>\n",
       "      <td>Male</td>\n",
       "      <td>60</td>\n",
       "      <td>1</td>\n",
       "      <td>B</td>\n",
       "      <td>28</td>\n",
       "      <td>Yes</td>\n",
       "      <td>1-2 Year</td>\n",
       "      <td>No</td>\n",
       "      <td>48512</td>\n",
       "      <td>26</td>\n",
       "      <td>86</td>\n",
       "      <td>0</td>\n",
       "    </tr>\n",
       "    <tr>\n",
       "      <th>4</th>\n",
       "      <td>5</td>\n",
       "      <td>Female</td>\n",
       "      <td>42</td>\n",
       "      <td>1</td>\n",
       "      <td>B</td>\n",
       "      <td>46</td>\n",
       "      <td>No</td>\n",
       "      <td>1-2 Year</td>\n",
       "      <td>Yes</td>\n",
       "      <td>32169</td>\n",
       "      <td>124</td>\n",
       "      <td>132</td>\n",
       "      <td>0</td>\n",
       "    </tr>\n",
       "  </tbody>\n",
       "</table>\n",
       "</div>"
      ],
      "text/plain": [
       "   id  Gender  Age  Driving_License Licence_Type  Region_Code  \\\n",
       "0   1  Female   44                1            M           30   \n",
       "1   2    Male   23                1            M            3   \n",
       "2   3    Male   43                1            C           28   \n",
       "3   4    Male   60                1            B           28   \n",
       "4   5  Female   42                1            B           46   \n",
       "\n",
       "  Previously_Insured Vehicle_Age Vehicle_Damage  Annual_Premium  \\\n",
       "0                 No    1-2 Year            Yes           25741   \n",
       "1                Yes    < 1 Year             No            2630   \n",
       "2                 No    1-2 Year            Yes           70720   \n",
       "3                Yes    1-2 Year             No           48512   \n",
       "4                 No    1-2 Year            Yes           32169   \n",
       "\n",
       "   Policy_Sales_Channel  Seniority  Target  \n",
       "0                   154        152       0  \n",
       "1                   152        256       0  \n",
       "2                    52        224       0  \n",
       "3                    26         86       0  \n",
       "4                   124        132       0  "
      ]
     },
     "execution_count": 32,
     "metadata": {},
     "output_type": "execute_result"
    }
   ],
   "source": [
    "df.head()"
   ]
  },
  {
   "cell_type": "code",
   "execution_count": 33,
   "metadata": {},
   "outputs": [
    {
     "data": {
      "text/plain": [
       "(102351, 13)"
      ]
     },
     "execution_count": 33,
     "metadata": {},
     "output_type": "execute_result"
    }
   ],
   "source": [
    "df.shape"
   ]
  },
  {
   "cell_type": "markdown",
   "metadata": {},
   "source": [
    "Looking for NAs"
   ]
  },
  {
   "cell_type": "code",
   "execution_count": 34,
   "metadata": {},
   "outputs": [
    {
     "data": {
      "text/plain": [
       "id                         0\n",
       "Gender                     0\n",
       "Age                        0\n",
       "Driving_License            0\n",
       "Licence_Type            5091\n",
       "Region_Code                0\n",
       "Previously_Insured         0\n",
       "Vehicle_Age                0\n",
       "Vehicle_Damage             0\n",
       "Annual_Premium             0\n",
       "Policy_Sales_Channel       0\n",
       "Seniority                  0\n",
       "Target                     0\n",
       "dtype: int64"
      ]
     },
     "execution_count": 34,
     "metadata": {},
     "output_type": "execute_result"
    }
   ],
   "source": [
    "df.isna().sum()"
   ]
  },
  {
   "cell_type": "markdown",
   "metadata": {},
   "source": [
    "there are 5091 rows with NAs in the \"licence type\" column"
   ]
  },
  {
   "cell_type": "code",
   "execution_count": 28,
   "metadata": {},
   "outputs": [],
   "source": [
    "#eploring the licence type variable"
   ]
  },
  {
   "cell_type": "code",
   "execution_count": 35,
   "metadata": {},
   "outputs": [
    {
     "data": {
      "text/plain": [
       "Text(0.5, 1.0, 'Number of licences by type')"
      ]
     },
     "execution_count": 35,
     "metadata": {},
     "output_type": "execute_result"
    },
    {
     "data": {
      "image/png": "[encoded data removed]",
      "text/plain": [
       "<Figure size 432x288 with 1 Axes>"
      ]
     },
     "metadata": {
      "needs_background": "light"
     },
     "output_type": "display_data"
    }
   ],
   "source": [
    "df.Licence_Type.value_counts().plot(kind = \"bar\")\n",
    "plt.title(\"Number of licences by type\")"
   ]
  },
  {
   "cell_type": "code",
   "execution_count": 36,
   "metadata": {},
   "outputs": [
    {
     "data": {
      "text/plain": [
       "Licence_Type  Target\n",
       "A             0         0.680712\n",
       "              1         0.319288\n",
       "B             0         0.684243\n",
       "              1         0.315757\n",
       "C             0         0.682581\n",
       "              1         0.317419\n",
       "D             0         0.683686\n",
       "              1         0.316314\n",
       "M             0         0.682312\n",
       "              1         0.317688\n",
       "Name: Target, dtype: float64"
      ]
     },
     "execution_count": 36,
     "metadata": {},
     "output_type": "execute_result"
    }
   ],
   "source": [
    "df.groupby(\"Licence_Type\").Target.value_counts(normalize = True)"
   ]
  },
  {
   "cell_type": "code",
   "execution_count": 37,
   "metadata": {},
   "outputs": [
    {
     "data": {
      "text/plain": [
       "Text(0.5, 1.0, 'Proportion of 0 and 1 based on licence type')"
      ]
     },
     "execution_count": 37,
     "metadata": {},
     "output_type": "execute_result"
    },
    {
     "data": {
      "image/png": "[encoded data removed]",
      "text/plain": [
       "<Figure size 432x288 with 1 Axes>"
      ]
     },
     "metadata": {
      "needs_background": "light"
     },
     "output_type": "display_data"
    }
   ],
   "source": [
    "sns.countplot(x = df.Licence_Type, hue=df.Target, dodge=False)\n",
    "plt.title(\"Proportion of 0 and 1 based on licence type\")"
   ]
  },
  {
   "cell_type": "markdown",
   "metadata": {},
   "source": [
    "the licence type variable doesn't look very relevant in predicting the outcome of the target variable. \n",
    "Knowing the type of licence doesn't add meaningful information. We decide to remove it. (In these way no NAs will be present in the dataset...all NAs were in this column)"
   ]
  },
  {
   "cell_type": "code",
   "execution_count": 10,
   "metadata": {},
   "outputs": [],
   "source": [
    "#exploring the age variable"
   ]
  },
  {
   "cell_type": "code",
   "execution_count": 38,
   "metadata": {},
   "outputs": [
    {
     "data": {
      "text/plain": [
       "count    102351.000000\n",
       "mean         39.867339\n",
       "std          14.935793\n",
       "min          20.000000\n",
       "25%          25.000000\n",
       "50%          39.000000\n",
       "75%          50.000000\n",
       "max          85.000000\n",
       "Name: Age, dtype: float64"
      ]
     },
     "execution_count": 38,
     "metadata": {},
     "output_type": "execute_result"
    }
   ],
   "source": [
    "df.Age.describe()"
   ]
  },
  {
   "cell_type": "markdown",
   "metadata": {},
   "source": [
    "the range seems realistic...no potential outliers identified or people with unreasonable ages."
   ]
  },
  {
   "cell_type": "code",
   "execution_count": 39,
   "metadata": {},
   "outputs": [
    {
     "data": {
      "text/plain": [
       "Text(0.5, 1.0, 'Boxplot age')"
      ]
     },
     "execution_count": 39,
     "metadata": {},
     "output_type": "execute_result"
    },
    {
     "data": {
      "image/png": "[encoded data removed]",
      "text/plain": [
       "<Figure size 432x288 with 1 Axes>"
      ]
     },
     "metadata": {
      "needs_background": "light"
     },
     "output_type": "display_data"
    }
   ],
   "source": [
    "sns.boxplot(df.Age)\n",
    "plt.title(\"Boxplot age\")"
   ]
  },
  {
   "cell_type": "code",
   "execution_count": 40,
   "metadata": {},
   "outputs": [
    {
     "data": {
      "text/plain": [
       "Text(0.5, 1.0, 'Distribution of the age variable')"
      ]
     },
     "execution_count": 40,
     "metadata": {},
     "output_type": "execute_result"
    },
    {
     "data": {
      "image/png": "[encoded data removed]",
      "text/plain": [
       "<Figure size 432x288 with 1 Axes>"
      ]
     },
     "metadata": {
      "needs_background": "light"
     },
     "output_type": "display_data"
    }
   ],
   "source": [
    "sns.distplot(df.Age)\n",
    "plt.title(\"Distribution of the age variable\")"
   ]
  },
  {
   "cell_type": "code",
   "execution_count": 41,
   "metadata": {},
   "outputs": [
    {
     "data": {
      "text/plain": [
       "Text(0.5, 1.0, 'Distribution age variable based on target outcome')"
      ]
     },
     "execution_count": 41,
     "metadata": {},
     "output_type": "execute_result"
    },
    {
     "data": {
      "image/png": "[encoded data removed]",
      "text/plain": [
       "<Figure size 432x288 with 1 Axes>"
      ]
     },
     "metadata": {
      "needs_background": "light"
     },
     "output_type": "display_data"
    }
   ],
   "source": [
    "sns.distplot(df.loc[df.Target == 1].Age, label = \"Target 0\")\n",
    "sns.distplot(df.loc[df.Target == 0].Age, label=\"Target 1\")\n",
    "plt.legend()\n",
    "plt.title(\"Distribution age variable based on target outcome\")"
   ]
  },
  {
   "cell_type": "markdown",
   "metadata": {},
   "source": [
    "the age variable looks quite important. We can see that those with target equal to 1 tend to be younger.\n",
    "The age distribution for those with target 0 and 1 respectively is different. We keep this variable"
   ]
  },
  {
   "cell_type": "code",
   "execution_count": 15,
   "metadata": {},
   "outputs": [],
   "source": [
    "#exploring the annual premium variable"
   ]
  },
  {
   "cell_type": "code",
   "execution_count": 42,
   "metadata": {},
   "outputs": [
    {
     "data": {
      "text/plain": [
       "Text(0.5, 1.0, 'Distribution Annual Premium')"
      ]
     },
     "execution_count": 42,
     "metadata": {},
     "output_type": "execute_result"
    },
    {
     "data": {
      "image/png": "[encoded data removed]",
      "text/plain": [
       "<Figure size 432x288 with 1 Axes>"
      ]
     },
     "metadata": {
      "needs_background": "light"
     },
     "output_type": "display_data"
    }
   ],
   "source": [
    "sns.distplot(df.Annual_Premium)\n",
    "plt.title(\"Distribution Annual Premium\")"
   ]
  },
  {
   "cell_type": "code",
   "execution_count": 43,
   "metadata": {},
   "outputs": [
    {
     "data": {
      "text/plain": [
       "<matplotlib.axes._subplots.AxesSubplot at 0x1718312f490>"
      ]
     },
     "execution_count": 43,
     "metadata": {},
     "output_type": "execute_result"
    },
    {
     "data": {
      "image/png": "[encoded data removed]",
      "text/plain": [
       "<Figure size 432x288 with 1 Axes>"
      ]
     },
     "metadata": {
      "needs_background": "light"
     },
     "output_type": "display_data"
    }
   ],
   "source": [
    "sns.boxplot(df.Annual_Premium)"
   ]
  },
  {
   "cell_type": "markdown",
   "metadata": {},
   "source": [
    "We can identify several observations with very high values"
   ]
  },
  {
   "cell_type": "code",
   "execution_count": 44,
   "metadata": {},
   "outputs": [
    {
     "data": {
      "text/plain": [
       "230"
      ]
     },
     "execution_count": 44,
     "metadata": {},
     "output_type": "execute_result"
    }
   ],
   "source": [
    "len(df.loc[df.Annual_Premium >100000])"
   ]
  },
  {
   "cell_type": "markdown",
   "metadata": {},
   "source": [
    "there are 230 observation with values greater than 100k. Without having additional information we decide to leave them and not treat them as outliers. We therefore just see these observations as realistic values within our dataset (it is reasonable that a minority of customers have such high annual premium)."
   ]
  },
  {
   "cell_type": "code",
   "execution_count": 45,
   "metadata": {},
   "outputs": [
    {
     "data": {
      "text/plain": [
       "Text(0.5, 1.0, 'Distribution Annual Premium by target outcome')"
      ]
     },
     "execution_count": 45,
     "metadata": {},
     "output_type": "execute_result"
    },
    {
     "data": {
      "image/png": "[encoded data removed]",
      "text/plain": [
       "<Figure size 432x288 with 1 Axes>"
      ]
     },
     "metadata": {
      "needs_background": "light"
     },
     "output_type": "display_data"
    }
   ],
   "source": [
    "sns.distplot(df.loc[df.Target == 1].Annual_Premium, label = \"Target 0\")\n",
    "sns.distplot(df.loc[df.Target == 0].Annual_Premium, label=\"Target 1\")\n",
    "plt.legend()\n",
    "plt.title(\"Distribution Annual Premium by target outcome\")"
   ]
  },
  {
   "cell_type": "markdown",
   "metadata": {},
   "source": [
    "the distribution of the annual premium variable looks the same for those with target equal to 1 and 0. Still we decided to apply the logarithmic transformation to this variable to see if more meaningful information can be derived"
   ]
  },
  {
   "cell_type": "code",
   "execution_count": 46,
   "metadata": {},
   "outputs": [
    {
     "data": {
      "text/plain": [
       "Text(0.5, 1.0, 'Distribution Annual Premium (log scale)')"
      ]
     },
     "execution_count": 46,
     "metadata": {},
     "output_type": "execute_result"
    },
    {
     "data": {
      "image/png": "[encoded data removed]",
      "text/plain": [
       "<Figure size 432x288 with 1 Axes>"
      ]
     },
     "metadata": {
      "needs_background": "light"
     },
     "output_type": "display_data"
    }
   ],
   "source": [
    "sns.distplot(np.log(df.Annual_Premium))\n",
    "plt.title(\"Distribution Annual Premium (log scale)\")"
   ]
  },
  {
   "cell_type": "code",
   "execution_count": 47,
   "metadata": {},
   "outputs": [
    {
     "data": {
      "text/plain": [
       "Text(0.5, 1.0, 'Distribution Annual Premium by target outcome (log scale)')"
      ]
     },
     "execution_count": 47,
     "metadata": {},
     "output_type": "execute_result"
    },
    {
     "data": {
      "image/png": "[encoded data removed]",
      "text/plain": [
       "<Figure size 432x288 with 1 Axes>"
      ]
     },
     "metadata": {
      "needs_background": "light"
     },
     "output_type": "display_data"
    }
   ],
   "source": [
    "sns.distplot(np.log(df.loc[df.Target == 1].Annual_Premium), label = \"Target 0\")\n",
    "sns.distplot(np.log(df.loc[df.Target == 0].Annual_Premium), label=\"Target 1\")\n",
    "plt.legend()\n",
    "plt.title(\"Distribution Annual Premium by target outcome (log scale)\")"
   ]
  },
  {
   "cell_type": "markdown",
   "metadata": {},
   "source": [
    "there seems to be the same distribution for 0 and 1 taking the annual premium variable into consideration. For this reason we decide not to consider this variable"
   ]
  },
  {
   "cell_type": "code",
   "execution_count": 22,
   "metadata": {},
   "outputs": [],
   "source": [
    "#exploring the seniority variable"
   ]
  },
  {
   "cell_type": "code",
   "execution_count": 48,
   "metadata": {},
   "outputs": [
    {
     "data": {
      "text/plain": [
       "Text(0.5, 1.0, 'Seniority distribution')"
      ]
     },
     "execution_count": 48,
     "metadata": {},
     "output_type": "execute_result"
    },
    {
     "data": {
      "image/png": "[encoded data removed]",
      "text/plain": [
       "<Figure size 432x288 with 1 Axes>"
      ]
     },
     "metadata": {
      "needs_background": "light"
     },
     "output_type": "display_data"
    }
   ],
   "source": [
    "sns.distplot(df.Seniority)\n",
    "plt.title(\"Seniority distribution\")"
   ]
  },
  {
   "cell_type": "code",
   "execution_count": 49,
   "metadata": {},
   "outputs": [
    {
     "data": {
      "text/plain": [
       "Text(0.5, 1.0, 'Seniority distribution by target outcome')"
      ]
     },
     "execution_count": 49,
     "metadata": {},
     "output_type": "execute_result"
    },
    {
     "data": {
      "image/png": "[encoded data removed]",
      "text/plain": [
       "<Figure size 432x288 with 1 Axes>"
      ]
     },
     "metadata": {
      "needs_background": "light"
     },
     "output_type": "display_data"
    }
   ],
   "source": [
    "sns.distplot(df.loc[df.Target == 1].Seniority, label = \"Target 0\")\n",
    "sns.distplot(df.loc[df.Target == 0].Seniority, label=\"Target 1\")\n",
    "plt.legend()\n",
    "plt.title(\"Seniority distribution by target outcome\")"
   ]
  },
  {
   "cell_type": "markdown",
   "metadata": {},
   "source": [
    "seniority also doesn't seem to have an impact on the target outcome"
   ]
  },
  {
   "cell_type": "code",
   "execution_count": 25,
   "metadata": {},
   "outputs": [],
   "source": [
    "#exploring the previously insured variable"
   ]
  },
  {
   "cell_type": "code",
   "execution_count": 50,
   "metadata": {},
   "outputs": [
    {
     "data": {
      "text/plain": [
       "No     65818\n",
       "Yes    36533\n",
       "Name: Previously_Insured, dtype: int64"
      ]
     },
     "execution_count": 50,
     "metadata": {},
     "output_type": "execute_result"
    }
   ],
   "source": [
    "df.Previously_Insured.value_counts()"
   ]
  },
  {
   "cell_type": "code",
   "execution_count": 51,
   "metadata": {},
   "outputs": [
    {
     "data": {
      "text/plain": [
       "Previously_Insured  Target\n",
       "No                  0         0.508174\n",
       "                    1         0.491826\n",
       "Yes                 0         0.997208\n",
       "                    1         0.002792\n",
       "Name: Target, dtype: float64"
      ]
     },
     "execution_count": 51,
     "metadata": {},
     "output_type": "execute_result"
    }
   ],
   "source": [
    "df.groupby(\"Previously_Insured\").Target.value_counts(normalize = True)"
   ]
  },
  {
   "cell_type": "markdown",
   "metadata": {},
   "source": [
    "The \"previously insured\" variable seems relevant. If the answer is yes it seems certain that the person was not interested. For this reason we keep this variable"
   ]
  },
  {
   "cell_type": "code",
   "execution_count": 52,
   "metadata": {},
   "outputs": [],
   "source": [
    "#exploring the vehicle damage variable"
   ]
  },
  {
   "cell_type": "code",
   "execution_count": 53,
   "metadata": {},
   "outputs": [
    {
     "data": {
      "text/plain": [
       "Yes    62546\n",
       "No     39805\n",
       "Name: Vehicle_Damage, dtype: int64"
      ]
     },
     "execution_count": 53,
     "metadata": {},
     "output_type": "execute_result"
    }
   ],
   "source": [
    "df.Vehicle_Damage.value_counts()"
   ]
  },
  {
   "cell_type": "code",
   "execution_count": 54,
   "metadata": {},
   "outputs": [
    {
     "data": {
      "text/plain": [
       "Vehicle_Damage  Target\n",
       "No              0         0.982791\n",
       "                1         0.017209\n",
       "Yes             1         0.508234\n",
       "                0         0.491766\n",
       "Name: Target, dtype: float64"
      ]
     },
     "execution_count": 54,
     "metadata": {},
     "output_type": "execute_result"
    }
   ],
   "source": [
    "df.groupby(\"Vehicle_Damage\").Target.value_counts(normalize = True)"
   ]
  },
  {
   "cell_type": "markdown",
   "metadata": {},
   "source": [
    "The vehicle damage variable seems relevant too. For example if the answer is no it is almost certain that the target is 0. We keep this variable"
   ]
  },
  {
   "cell_type": "code",
   "execution_count": 55,
   "metadata": {},
   "outputs": [
    {
     "data": {
      "text/plain": [
       "Previously_Insured  Vehicle_Damage  Target\n",
       "No                  No              0         0.882331\n",
       "                                    1         0.117669\n",
       "                    Yes             1         0.525186\n",
       "                                    0         0.474814\n",
       "Yes                 No              0         0.998518\n",
       "                                    1         0.001482\n",
       "                    Yes             0         0.975898\n",
       "                                    1         0.024102\n",
       "Name: Target, dtype: float64"
      ]
     },
     "execution_count": 55,
     "metadata": {},
     "output_type": "execute_result"
    }
   ],
   "source": [
    "df.groupby([\"Previously_Insured\", \"Vehicle_Damage\"]).Target.value_counts(normalize = True)\n",
    "#putting together the previously insured variable and the vehicle damage variable"
   ]
  },
  {
   "cell_type": "code",
   "execution_count": 32,
   "metadata": {},
   "outputs": [],
   "source": [
    "#exploring the vehicle age variable"
   ]
  },
  {
   "cell_type": "code",
   "execution_count": 56,
   "metadata": {},
   "outputs": [
    {
     "data": {
      "text/plain": [
       "1-2 Year     58863\n",
       "< 1 Year     37877\n",
       "> 2 Years     5611\n",
       "Name: Vehicle_Age, dtype: int64"
      ]
     },
     "execution_count": 56,
     "metadata": {},
     "output_type": "execute_result"
    }
   ],
   "source": [
    "df.Vehicle_Age.value_counts()"
   ]
  },
  {
   "cell_type": "code",
   "execution_count": 57,
   "metadata": {},
   "outputs": [
    {
     "data": {
      "text/plain": [
       "Vehicle_Age  Target\n",
       "1-2 Year     0         0.589980\n",
       "             1         0.410020\n",
       "< 1 Year     0         0.867228\n",
       "             1         0.132772\n",
       "> 2 Years    1         0.589734\n",
       "             0         0.410266\n",
       "Name: Target, dtype: float64"
      ]
     },
     "execution_count": 57,
     "metadata": {},
     "output_type": "execute_result"
    }
   ],
   "source": [
    "df.groupby(\"Vehicle_Age\").Target.value_counts(normalize = True)"
   ]
  },
  {
   "cell_type": "markdown",
   "metadata": {},
   "source": [
    "The vehicle age variable seems relevant too. In particular it is much more likely that those with a vehicle age lower than 1 are not interested. We keep this variable"
   ]
  },
  {
   "cell_type": "code",
   "execution_count": 35,
   "metadata": {},
   "outputs": [],
   "source": [
    "#exploring the gender variable"
   ]
  },
  {
   "cell_type": "code",
   "execution_count": 58,
   "metadata": {},
   "outputs": [
    {
     "data": {
      "text/plain": [
       "Male      57097\n",
       "Female    45254\n",
       "Name: Gender, dtype: int64"
      ]
     },
     "execution_count": 58,
     "metadata": {},
     "output_type": "execute_result"
    }
   ],
   "source": [
    "df.Gender.value_counts()"
   ]
  },
  {
   "cell_type": "code",
   "execution_count": 59,
   "metadata": {},
   "outputs": [
    {
     "data": {
      "text/plain": [
       "Gender  Target\n",
       "Female  0         0.721704\n",
       "        1         0.278296\n",
       "Male    0         0.651838\n",
       "        1         0.348162\n",
       "Name: Target, dtype: float64"
      ]
     },
     "execution_count": 59,
     "metadata": {},
     "output_type": "execute_result"
    }
   ],
   "source": [
    "df.groupby(\"Gender\").Target.value_counts(normalize = True)"
   ]
  },
  {
   "cell_type": "markdown",
   "metadata": {},
   "source": [
    "male seems just slightly more likely than women to accept the new product. (After running our algorithms both with and without the gender variable we didn't see any change in the results so we decided to discard this variable not providing better results)"
   ]
  },
  {
   "cell_type": "code",
   "execution_count": 38,
   "metadata": {},
   "outputs": [],
   "source": [
    "#exploring the driving licence variable"
   ]
  },
  {
   "cell_type": "code",
   "execution_count": 39,
   "metadata": {
    "scrolled": true
   },
   "outputs": [
    {
     "data": {
      "text/plain": [
       "Driving_License  Target\n",
       "0                0         0.682970\n",
       "                 1         0.317030\n",
       "1                0         0.682716\n",
       "                 1         0.317284\n",
       "Name: Target, dtype: float64"
      ]
     },
     "execution_count": 39,
     "metadata": {},
     "output_type": "execute_result"
    }
   ],
   "source": [
    "df.groupby(\"Driving_License\").Target.value_counts(normalize = True)"
   ]
  },
  {
   "cell_type": "markdown",
   "metadata": {},
   "source": [
    "driving licence seems not relevant for predicting the target outcome. We discard this variable"
   ]
  },
  {
   "cell_type": "code",
   "execution_count": 40,
   "metadata": {},
   "outputs": [],
   "source": [
    "#exploring the sales channel variables"
   ]
  },
  {
   "cell_type": "markdown",
   "metadata": {},
   "source": [
    "we tested algorithm with and without ...no changes in results...so we remove it to simplify our model\n",
    "reason behind the variable being not relevant in predicting the target outcome --> choice of getting insurance independent from channel\n"
   ]
  },
  {
   "cell_type": "code",
   "execution_count": 41,
   "metadata": {},
   "outputs": [],
   "source": [
    "#exploring the region code variable"
   ]
  },
  {
   "cell_type": "markdown",
   "metadata": {},
   "source": [
    "we tested algorithm with and without ...no changes in results...so we remove it to simplify our model\n",
    "reasons for the variable being not relevant --> the choice of getting insured is not connected to the region but rather by the specific needs of the clients"
   ]
  },
  {
   "cell_type": "markdown",
   "metadata": {},
   "source": [
    "### RELEVANT VARIABLES:\n",
    "- Age\n",
    "- Previously Insured\n",
    "- Vehicle Damage\n",
    "- Vehicle Age"
   ]
  },
  {
   "cell_type": "markdown",
   "metadata": {},
   "source": [
    "# CONVERTING CATEGORICAL INTO NUMERIC"
   ]
  },
  {
   "cell_type": "code",
   "execution_count": 60,
   "metadata": {},
   "outputs": [],
   "source": [
    "df[\"Prev_Insured_binary\"] = df.Previously_Insured.apply(lambda x: 1 if (x == \"Yes\") else 0)\n",
    "#creating a new (binary) column for the \"previously insured\" variable (1 = YES, 0 = NO)"
   ]
  },
  {
   "cell_type": "code",
   "execution_count": 61,
   "metadata": {},
   "outputs": [],
   "source": [
    "df[\"Vehicle_damage_binary\"] = df.Vehicle_Damage.apply(lambda x: 1 if (x == \"Yes\") else 0)\n",
    "#creating a new (binary) column for the \"vehicle damage\" variable (1 = YES, 0 = NO)"
   ]
  },
  {
   "cell_type": "code",
   "execution_count": 62,
   "metadata": {},
   "outputs": [],
   "source": [
    "dummy_Vehicle_Age = pd.get_dummies(df['Vehicle_Age'],drop_first=True)   \n",
    "#creating dummies for the \"Vehicle Age\" variable (n-1 columns)"
   ]
  },
  {
   "cell_type": "code",
   "execution_count": 63,
   "metadata": {},
   "outputs": [
    {
     "data": {
      "text/html": [
       "<div>\n",
       "<style scoped>\n",
       "    .dataframe tbody tr th:only-of-type {\n",
       "        vertical-align: middle;\n",
       "    }\n",
       "\n",
       "    .dataframe tbody tr th {\n",
       "        vertical-align: top;\n",
       "    }\n",
       "\n",
       "    .dataframe thead th {\n",
       "        text-align: right;\n",
       "    }\n",
       "</style>\n",
       "<table border=\"1\" class=\"dataframe\">\n",
       "  <thead>\n",
       "    <tr style=\"text-align: right;\">\n",
       "      <th></th>\n",
       "      <th>&lt; 1 Year</th>\n",
       "      <th>&gt; 2 Years</th>\n",
       "    </tr>\n",
       "  </thead>\n",
       "  <tbody>\n",
       "    <tr>\n",
       "      <th>0</th>\n",
       "      <td>0</td>\n",
       "      <td>0</td>\n",
       "    </tr>\n",
       "    <tr>\n",
       "      <th>1</th>\n",
       "      <td>1</td>\n",
       "      <td>0</td>\n",
       "    </tr>\n",
       "    <tr>\n",
       "      <th>2</th>\n",
       "      <td>0</td>\n",
       "      <td>0</td>\n",
       "    </tr>\n",
       "    <tr>\n",
       "      <th>3</th>\n",
       "      <td>0</td>\n",
       "      <td>0</td>\n",
       "    </tr>\n",
       "    <tr>\n",
       "      <th>4</th>\n",
       "      <td>0</td>\n",
       "      <td>0</td>\n",
       "    </tr>\n",
       "    <tr>\n",
       "      <th>...</th>\n",
       "      <td>...</td>\n",
       "      <td>...</td>\n",
       "    </tr>\n",
       "    <tr>\n",
       "      <th>102346</th>\n",
       "      <td>1</td>\n",
       "      <td>0</td>\n",
       "    </tr>\n",
       "    <tr>\n",
       "      <th>102347</th>\n",
       "      <td>0</td>\n",
       "      <td>0</td>\n",
       "    </tr>\n",
       "    <tr>\n",
       "      <th>102348</th>\n",
       "      <td>0</td>\n",
       "      <td>1</td>\n",
       "    </tr>\n",
       "    <tr>\n",
       "      <th>102349</th>\n",
       "      <td>1</td>\n",
       "      <td>0</td>\n",
       "    </tr>\n",
       "    <tr>\n",
       "      <th>102350</th>\n",
       "      <td>0</td>\n",
       "      <td>0</td>\n",
       "    </tr>\n",
       "  </tbody>\n",
       "</table>\n",
       "<p>102351 rows × 2 columns</p>\n",
       "</div>"
      ],
      "text/plain": [
       "        < 1 Year  > 2 Years\n",
       "0              0          0\n",
       "1              1          0\n",
       "2              0          0\n",
       "3              0          0\n",
       "4              0          0\n",
       "...          ...        ...\n",
       "102346         1          0\n",
       "102347         0          0\n",
       "102348         0          1\n",
       "102349         1          0\n",
       "102350         0          0\n",
       "\n",
       "[102351 rows x 2 columns]"
      ]
     },
     "execution_count": 63,
     "metadata": {},
     "output_type": "execute_result"
    }
   ],
   "source": [
    "dummy_Vehicle_Age\n",
    "#preview of the dummy variables"
   ]
  },
  {
   "cell_type": "code",
   "execution_count": 64,
   "metadata": {},
   "outputs": [],
   "source": [
    "new_df = pd.concat([df,dummy_Vehicle_Age], axis = 1)\n",
    "#concatenating the dataset with the newly creating dummy variables in a new dataset"
   ]
  },
  {
   "cell_type": "code",
   "execution_count": 65,
   "metadata": {},
   "outputs": [
    {
     "data": {
      "text/html": [
       "<div>\n",
       "<style scoped>\n",
       "    .dataframe tbody tr th:only-of-type {\n",
       "        vertical-align: middle;\n",
       "    }\n",
       "\n",
       "    .dataframe tbody tr th {\n",
       "        vertical-align: top;\n",
       "    }\n",
       "\n",
       "    .dataframe thead th {\n",
       "        text-align: right;\n",
       "    }\n",
       "</style>\n",
       "<table border=\"1\" class=\"dataframe\">\n",
       "  <thead>\n",
       "    <tr style=\"text-align: right;\">\n",
       "      <th></th>\n",
       "      <th>id</th>\n",
       "      <th>Gender</th>\n",
       "      <th>Age</th>\n",
       "      <th>Driving_License</th>\n",
       "      <th>Licence_Type</th>\n",
       "      <th>Region_Code</th>\n",
       "      <th>Previously_Insured</th>\n",
       "      <th>Vehicle_Age</th>\n",
       "      <th>Vehicle_Damage</th>\n",
       "      <th>Annual_Premium</th>\n",
       "      <th>Policy_Sales_Channel</th>\n",
       "      <th>Seniority</th>\n",
       "      <th>Target</th>\n",
       "      <th>Prev_Insured_binary</th>\n",
       "      <th>Vehicle_damage_binary</th>\n",
       "      <th>&lt; 1 Year</th>\n",
       "      <th>&gt; 2 Years</th>\n",
       "    </tr>\n",
       "  </thead>\n",
       "  <tbody>\n",
       "    <tr>\n",
       "      <th>0</th>\n",
       "      <td>1</td>\n",
       "      <td>Female</td>\n",
       "      <td>44</td>\n",
       "      <td>1</td>\n",
       "      <td>M</td>\n",
       "      <td>30</td>\n",
       "      <td>No</td>\n",
       "      <td>1-2 Year</td>\n",
       "      <td>Yes</td>\n",
       "      <td>25741</td>\n",
       "      <td>154</td>\n",
       "      <td>152</td>\n",
       "      <td>0</td>\n",
       "      <td>0</td>\n",
       "      <td>1</td>\n",
       "      <td>0</td>\n",
       "      <td>0</td>\n",
       "    </tr>\n",
       "    <tr>\n",
       "      <th>1</th>\n",
       "      <td>2</td>\n",
       "      <td>Male</td>\n",
       "      <td>23</td>\n",
       "      <td>1</td>\n",
       "      <td>M</td>\n",
       "      <td>3</td>\n",
       "      <td>Yes</td>\n",
       "      <td>&lt; 1 Year</td>\n",
       "      <td>No</td>\n",
       "      <td>2630</td>\n",
       "      <td>152</td>\n",
       "      <td>256</td>\n",
       "      <td>0</td>\n",
       "      <td>1</td>\n",
       "      <td>0</td>\n",
       "      <td>1</td>\n",
       "      <td>0</td>\n",
       "    </tr>\n",
       "    <tr>\n",
       "      <th>2</th>\n",
       "      <td>3</td>\n",
       "      <td>Male</td>\n",
       "      <td>43</td>\n",
       "      <td>1</td>\n",
       "      <td>C</td>\n",
       "      <td>28</td>\n",
       "      <td>No</td>\n",
       "      <td>1-2 Year</td>\n",
       "      <td>Yes</td>\n",
       "      <td>70720</td>\n",
       "      <td>52</td>\n",
       "      <td>224</td>\n",
       "      <td>0</td>\n",
       "      <td>0</td>\n",
       "      <td>1</td>\n",
       "      <td>0</td>\n",
       "      <td>0</td>\n",
       "    </tr>\n",
       "    <tr>\n",
       "      <th>3</th>\n",
       "      <td>4</td>\n",
       "      <td>Male</td>\n",
       "      <td>60</td>\n",
       "      <td>1</td>\n",
       "      <td>B</td>\n",
       "      <td>28</td>\n",
       "      <td>Yes</td>\n",
       "      <td>1-2 Year</td>\n",
       "      <td>No</td>\n",
       "      <td>48512</td>\n",
       "      <td>26</td>\n",
       "      <td>86</td>\n",
       "      <td>0</td>\n",
       "      <td>1</td>\n",
       "      <td>0</td>\n",
       "      <td>0</td>\n",
       "      <td>0</td>\n",
       "    </tr>\n",
       "    <tr>\n",
       "      <th>4</th>\n",
       "      <td>5</td>\n",
       "      <td>Female</td>\n",
       "      <td>42</td>\n",
       "      <td>1</td>\n",
       "      <td>B</td>\n",
       "      <td>46</td>\n",
       "      <td>No</td>\n",
       "      <td>1-2 Year</td>\n",
       "      <td>Yes</td>\n",
       "      <td>32169</td>\n",
       "      <td>124</td>\n",
       "      <td>132</td>\n",
       "      <td>0</td>\n",
       "      <td>0</td>\n",
       "      <td>1</td>\n",
       "      <td>0</td>\n",
       "      <td>0</td>\n",
       "    </tr>\n",
       "  </tbody>\n",
       "</table>\n",
       "</div>"
      ],
      "text/plain": [
       "   id  Gender  Age  Driving_License Licence_Type  Region_Code  \\\n",
       "0   1  Female   44                1            M           30   \n",
       "1   2    Male   23                1            M            3   \n",
       "2   3    Male   43                1            C           28   \n",
       "3   4    Male   60                1            B           28   \n",
       "4   5  Female   42                1            B           46   \n",
       "\n",
       "  Previously_Insured Vehicle_Age Vehicle_Damage  Annual_Premium  \\\n",
       "0                 No    1-2 Year            Yes           25741   \n",
       "1                Yes    < 1 Year             No            2630   \n",
       "2                 No    1-2 Year            Yes           70720   \n",
       "3                Yes    1-2 Year             No           48512   \n",
       "4                 No    1-2 Year            Yes           32169   \n",
       "\n",
       "   Policy_Sales_Channel  Seniority  Target  Prev_Insured_binary  \\\n",
       "0                   154        152       0                    0   \n",
       "1                   152        256       0                    1   \n",
       "2                    52        224       0                    0   \n",
       "3                    26         86       0                    1   \n",
       "4                   124        132       0                    0   \n",
       "\n",
       "   Vehicle_damage_binary  < 1 Year  > 2 Years  \n",
       "0                      1         0          0  \n",
       "1                      0         1          0  \n",
       "2                      1         0          0  \n",
       "3                      0         0          0  \n",
       "4                      1         0          0  "
      ]
     },
     "execution_count": 65,
     "metadata": {},
     "output_type": "execute_result"
    }
   ],
   "source": [
    "new_df.head()\n",
    "#preview of the new dataframe"
   ]
  },
  {
   "cell_type": "code",
   "execution_count": 66,
   "metadata": {},
   "outputs": [],
   "source": [
    "from sklearn.preprocessing import MinMaxScaler\n",
    "\n",
    "scaler = MinMaxScaler()\n",
    "new_df['Age_scaled'] = scaler.fit_transform(new_df[[\"Age\"]])\n",
    "\n",
    "#we decided to scale the age variable (range 0-1)"
   ]
  },
  {
   "cell_type": "code",
   "execution_count": 67,
   "metadata": {},
   "outputs": [],
   "source": [
    "new_df.drop(columns=[\"id\", \"Age\",\"Gender\", \"Driving_License\", \"Licence_Type\", \"Region_Code\", \"Previously_Insured\", \"Vehicle_Age\", \"Vehicle_Damage\", \"Annual_Premium\", \"Policy_Sales_Channel\", \"Seniority\"], inplace=True)\n",
    "\n",
    "#dropping unecessary columns"
   ]
  },
  {
   "cell_type": "code",
   "execution_count": 68,
   "metadata": {},
   "outputs": [
    {
     "data": {
      "text/html": [
       "<div>\n",
       "<style scoped>\n",
       "    .dataframe tbody tr th:only-of-type {\n",
       "        vertical-align: middle;\n",
       "    }\n",
       "\n",
       "    .dataframe tbody tr th {\n",
       "        vertical-align: top;\n",
       "    }\n",
       "\n",
       "    .dataframe thead th {\n",
       "        text-align: right;\n",
       "    }\n",
       "</style>\n",
       "<table border=\"1\" class=\"dataframe\">\n",
       "  <thead>\n",
       "    <tr style=\"text-align: right;\">\n",
       "      <th></th>\n",
       "      <th>Target</th>\n",
       "      <th>Prev_Insured_binary</th>\n",
       "      <th>Vehicle_damage_binary</th>\n",
       "      <th>&lt; 1 Year</th>\n",
       "      <th>&gt; 2 Years</th>\n",
       "      <th>Age_scaled</th>\n",
       "    </tr>\n",
       "  </thead>\n",
       "  <tbody>\n",
       "    <tr>\n",
       "      <th>0</th>\n",
       "      <td>0</td>\n",
       "      <td>0</td>\n",
       "      <td>1</td>\n",
       "      <td>0</td>\n",
       "      <td>0</td>\n",
       "      <td>0.369231</td>\n",
       "    </tr>\n",
       "    <tr>\n",
       "      <th>1</th>\n",
       "      <td>0</td>\n",
       "      <td>1</td>\n",
       "      <td>0</td>\n",
       "      <td>1</td>\n",
       "      <td>0</td>\n",
       "      <td>0.046154</td>\n",
       "    </tr>\n",
       "    <tr>\n",
       "      <th>2</th>\n",
       "      <td>0</td>\n",
       "      <td>0</td>\n",
       "      <td>1</td>\n",
       "      <td>0</td>\n",
       "      <td>0</td>\n",
       "      <td>0.353846</td>\n",
       "    </tr>\n",
       "    <tr>\n",
       "      <th>3</th>\n",
       "      <td>0</td>\n",
       "      <td>1</td>\n",
       "      <td>0</td>\n",
       "      <td>0</td>\n",
       "      <td>0</td>\n",
       "      <td>0.615385</td>\n",
       "    </tr>\n",
       "    <tr>\n",
       "      <th>4</th>\n",
       "      <td>0</td>\n",
       "      <td>0</td>\n",
       "      <td>1</td>\n",
       "      <td>0</td>\n",
       "      <td>0</td>\n",
       "      <td>0.338462</td>\n",
       "    </tr>\n",
       "  </tbody>\n",
       "</table>\n",
       "</div>"
      ],
      "text/plain": [
       "   Target  Prev_Insured_binary  Vehicle_damage_binary  < 1 Year  > 2 Years  \\\n",
       "0       0                    0                      1         0          0   \n",
       "1       0                    1                      0         1          0   \n",
       "2       0                    0                      1         0          0   \n",
       "3       0                    1                      0         0          0   \n",
       "4       0                    0                      1         0          0   \n",
       "\n",
       "   Age_scaled  \n",
       "0    0.369231  \n",
       "1    0.046154  \n",
       "2    0.353846  \n",
       "3    0.615385  \n",
       "4    0.338462  "
      ]
     },
     "execution_count": 68,
     "metadata": {},
     "output_type": "execute_result"
    }
   ],
   "source": [
    "new_df.head()\n",
    "\n",
    "#preview of the new dataframe"
   ]
  },
  {
   "cell_type": "code",
   "execution_count": 69,
   "metadata": {},
   "outputs": [],
   "source": [
    "Target_df = new_df.pop('Target') \n",
    "#dropping the column target and storing it in the \"Taarget_df\" variable"
   ]
  },
  {
   "cell_type": "code",
   "execution_count": 70,
   "metadata": {},
   "outputs": [],
   "source": [
    "new_df[\"Target\"] = Target_df\n",
    "#adding the previously deleted target variable to the dataframe (in this way it will be added as the last column and will be useful when we will split the dataset in training and test)"
   ]
  },
  {
   "cell_type": "code",
   "execution_count": 71,
   "metadata": {},
   "outputs": [
    {
     "data": {
      "text/html": [
       "<div>\n",
       "<style scoped>\n",
       "    .dataframe tbody tr th:only-of-type {\n",
       "        vertical-align: middle;\n",
       "    }\n",
       "\n",
       "    .dataframe tbody tr th {\n",
       "        vertical-align: top;\n",
       "    }\n",
       "\n",
       "    .dataframe thead th {\n",
       "        text-align: right;\n",
       "    }\n",
       "</style>\n",
       "<table border=\"1\" class=\"dataframe\">\n",
       "  <thead>\n",
       "    <tr style=\"text-align: right;\">\n",
       "      <th></th>\n",
       "      <th>Prev_Insured_binary</th>\n",
       "      <th>Vehicle_damage_binary</th>\n",
       "      <th>&lt; 1 Year</th>\n",
       "      <th>&gt; 2 Years</th>\n",
       "      <th>Age_scaled</th>\n",
       "      <th>Target</th>\n",
       "    </tr>\n",
       "  </thead>\n",
       "  <tbody>\n",
       "    <tr>\n",
       "      <th>0</th>\n",
       "      <td>0</td>\n",
       "      <td>1</td>\n",
       "      <td>0</td>\n",
       "      <td>0</td>\n",
       "      <td>0.369231</td>\n",
       "      <td>0</td>\n",
       "    </tr>\n",
       "    <tr>\n",
       "      <th>1</th>\n",
       "      <td>1</td>\n",
       "      <td>0</td>\n",
       "      <td>1</td>\n",
       "      <td>0</td>\n",
       "      <td>0.046154</td>\n",
       "      <td>0</td>\n",
       "    </tr>\n",
       "    <tr>\n",
       "      <th>2</th>\n",
       "      <td>0</td>\n",
       "      <td>1</td>\n",
       "      <td>0</td>\n",
       "      <td>0</td>\n",
       "      <td>0.353846</td>\n",
       "      <td>0</td>\n",
       "    </tr>\n",
       "    <tr>\n",
       "      <th>3</th>\n",
       "      <td>1</td>\n",
       "      <td>0</td>\n",
       "      <td>0</td>\n",
       "      <td>0</td>\n",
       "      <td>0.615385</td>\n",
       "      <td>0</td>\n",
       "    </tr>\n",
       "    <tr>\n",
       "      <th>4</th>\n",
       "      <td>0</td>\n",
       "      <td>1</td>\n",
       "      <td>0</td>\n",
       "      <td>0</td>\n",
       "      <td>0.338462</td>\n",
       "      <td>0</td>\n",
       "    </tr>\n",
       "  </tbody>\n",
       "</table>\n",
       "</div>"
      ],
      "text/plain": [
       "   Prev_Insured_binary  Vehicle_damage_binary  < 1 Year  > 2 Years  \\\n",
       "0                    0                      1         0          0   \n",
       "1                    1                      0         1          0   \n",
       "2                    0                      1         0          0   \n",
       "3                    1                      0         0          0   \n",
       "4                    0                      1         0          0   \n",
       "\n",
       "   Age_scaled  Target  \n",
       "0    0.369231       0  \n",
       "1    0.046154       0  \n",
       "2    0.353846       0  \n",
       "3    0.615385       0  \n",
       "4    0.338462       0  "
      ]
     },
     "execution_count": 71,
     "metadata": {},
     "output_type": "execute_result"
    }
   ],
   "source": [
    "new_df.head()\n",
    "\n",
    "#preview of the final dataset. We will apply ML algorithms on this dataset"
   ]
  },
  {
   "cell_type": "code",
   "execution_count": 72,
   "metadata": {},
   "outputs": [
    {
     "name": "stdout",
     "output_type": "stream",
     "text": [
      "Target\n",
      "0    69878\n",
      "1    32473\n",
      "dtype: int64\n"
     ]
    },
    {
     "data": {
      "image/png": "[encoded data removed]",
      "text/plain": [
       "<Figure size 432x288 with 1 Axes>"
      ]
     },
     "metadata": {},
     "output_type": "display_data"
    }
   ],
   "source": [
    "#Print class freq. through pandas \n",
    "print(new_df.groupby('Target').size())\n",
    "\n",
    "plt.style.use('ggplot')\n",
    "\n",
    "#Visualize Class Counts\n",
    "sns.countplot(y=new_df.Target ,data=new_df)\n",
    "plt.xlabel(\"count of each class\")\n",
    "plt.ylabel(\"classes\")\n",
    "plt.show()"
   ]
  },
  {
   "cell_type": "markdown",
   "metadata": {},
   "source": [
    "frequency of the 0 and 1 in the target variable"
   ]
  },
  {
   "cell_type": "code",
   "execution_count": null,
   "metadata": {},
   "outputs": [],
   "source": []
  },
  {
   "cell_type": "markdown",
   "metadata": {},
   "source": [
    "# ML ALGORITHM"
   ]
  },
  {
   "cell_type": "markdown",
   "metadata": {},
   "source": [
    "here below the code of the algorithm with which we got the best F1"
   ]
  },
  {
   "cell_type": "markdown",
   "metadata": {},
   "source": [
    "## DECISION TREE"
   ]
  },
  {
   "cell_type": "code",
   "execution_count": 73,
   "metadata": {},
   "outputs": [],
   "source": [
    "#We separate X and y (the explanatory variables and target variable)\n",
    "X = new_df.iloc[:,0:-1]\n",
    "y = new_df.iloc[:,-1] "
   ]
  },
  {
   "cell_type": "code",
   "execution_count": 74,
   "metadata": {},
   "outputs": [
    {
     "name": "stdout",
     "output_type": "stream",
     "text": [
      "(71645, 5) (30706, 5)\n"
     ]
    }
   ],
   "source": [
    "#WE SPLIT DATA INTO TRAIN AND TEST SET\n",
    "from sklearn.model_selection import train_test_split\n",
    "\n",
    "\n",
    "X_train, X_test, y_train, y_test = train_test_split(X, y, \n",
    "                                                    test_size =0.30,\n",
    "                                                    stratify=None, \n",
    "                                                    random_state= 123) \n",
    "\n",
    "print(X_train.shape, X_test.shape)"
   ]
  },
  {
   "cell_type": "code",
   "execution_count": 75,
   "metadata": {},
   "outputs": [
    {
     "data": {
      "image/png": "[encoded data removed]",
      "text/plain": [
       "<Figure size 432x288 with 1 Axes>"
      ]
     },
     "metadata": {},
     "output_type": "display_data"
    }
   ],
   "source": [
    "#Class Counts\n",
    "plt.hist(y_test)\n",
    "plt.xlabel(\"count of each class\")\n",
    "plt.ylabel(\"classes\")\n",
    "plt.show()"
   ]
  },
  {
   "cell_type": "code",
   "execution_count": 76,
   "metadata": {},
   "outputs": [],
   "source": [
    "#WE DEFINE OUR CLASSIFIER AND THE PARAMETERS GRID\n",
    "from sklearn.tree import DecisionTreeClassifier\n",
    "import numpy as np\n",
    "\n",
    "classifier = DecisionTreeClassifier(random_state=0)\n",
    "parameters = {'criterion': ['entropy','gini'], \n",
    "              'max_depth': [3,5,10, 50],\n",
    "              'min_samples_split': [5,10],\n",
    "              'min_samples_leaf': [2,4]}"
   ]
  },
  {
   "cell_type": "code",
   "execution_count": 77,
   "metadata": {},
   "outputs": [],
   "source": [
    "#WE DEFINE OUR GRIDSEARCH\n",
    "\n",
    "from sklearn.model_selection import GridSearchCV\n",
    "gs = GridSearchCV(classifier, parameters, cv=3, scoring = 'f1', verbose=10, n_jobs=-1)"
   ]
  },
  {
   "cell_type": "code",
   "execution_count": 78,
   "metadata": {},
   "outputs": [
    {
     "name": "stdout",
     "output_type": "stream",
     "text": [
      "Fitting 3 folds for each of 32 candidates, totalling 96 fits\n"
     ]
    },
    {
     "name": "stderr",
     "output_type": "stream",
     "text": [
      "[Parallel(n_jobs=-1)]: Using backend LokyBackend with 8 concurrent workers.\n",
      "[Parallel(n_jobs=-1)]: Done   2 tasks      | elapsed:    2.9s\n",
      "[Parallel(n_jobs=-1)]: Done   9 tasks      | elapsed:    3.0s\n",
      "[Parallel(n_jobs=-1)]: Done  16 tasks      | elapsed:    3.2s\n",
      "[Parallel(n_jobs=-1)]: Done  25 tasks      | elapsed:    3.4s\n",
      "[Parallel(n_jobs=-1)]: Done  34 tasks      | elapsed:    3.6s\n",
      "[Parallel(n_jobs=-1)]: Done  45 tasks      | elapsed:    3.9s\n",
      "[Parallel(n_jobs=-1)]: Done  56 tasks      | elapsed:    4.2s\n",
      "[Parallel(n_jobs=-1)]: Done  69 tasks      | elapsed:    4.5s\n",
      "[Parallel(n_jobs=-1)]: Done  91 out of  96 | elapsed:    5.2s remaining:    0.2s\n",
      "[Parallel(n_jobs=-1)]: Done  96 out of  96 | elapsed:    5.3s finished\n"
     ]
    }
   ],
   "source": [
    "#WE TRAIN OUR CLASSIFIER\n",
    "gs = gs.fit(X_train, y_train)"
   ]
  },
  {
   "cell_type": "code",
   "execution_count": 79,
   "metadata": {},
   "outputs": [
    {
     "name": "stdout",
     "output_type": "stream",
     "text": [
      "***GRIDSEARCH RESULTS***\n",
      "Best score: 0.691232 using {'criterion': 'entropy', 'max_depth': 3, 'min_samples_leaf': 2, 'min_samples_split': 5}\n",
      "0.691232 (0.002177) with: {'criterion': 'entropy', 'max_depth': 3, 'min_samples_leaf': 2, 'min_samples_split': 5}\n",
      "0.691232 (0.002177) with: {'criterion': 'entropy', 'max_depth': 3, 'min_samples_leaf': 2, 'min_samples_split': 10}\n",
      "0.691232 (0.002177) with: {'criterion': 'entropy', 'max_depth': 3, 'min_samples_leaf': 4, 'min_samples_split': 5}\n",
      "0.691232 (0.002177) with: {'criterion': 'entropy', 'max_depth': 3, 'min_samples_leaf': 4, 'min_samples_split': 10}\n",
      "0.668694 (0.008648) with: {'criterion': 'entropy', 'max_depth': 5, 'min_samples_leaf': 2, 'min_samples_split': 5}\n",
      "0.668694 (0.008648) with: {'criterion': 'entropy', 'max_depth': 5, 'min_samples_leaf': 2, 'min_samples_split': 10}\n",
      "0.668694 (0.008648) with: {'criterion': 'entropy', 'max_depth': 5, 'min_samples_leaf': 4, 'min_samples_split': 5}\n",
      "0.668694 (0.008648) with: {'criterion': 'entropy', 'max_depth': 5, 'min_samples_leaf': 4, 'min_samples_split': 10}\n",
      "0.675881 (0.006259) with: {'criterion': 'entropy', 'max_depth': 10, 'min_samples_leaf': 2, 'min_samples_split': 5}\n",
      "0.675907 (0.006223) with: {'criterion': 'entropy', 'max_depth': 10, 'min_samples_leaf': 2, 'min_samples_split': 10}\n",
      "0.676128 (0.006502) with: {'criterion': 'entropy', 'max_depth': 10, 'min_samples_leaf': 4, 'min_samples_split': 5}\n",
      "0.676154 (0.006466) with: {'criterion': 'entropy', 'max_depth': 10, 'min_samples_leaf': 4, 'min_samples_split': 10}\n",
      "0.676078 (0.006447) with: {'criterion': 'entropy', 'max_depth': 50, 'min_samples_leaf': 2, 'min_samples_split': 5}\n",
      "0.676154 (0.006442) with: {'criterion': 'entropy', 'max_depth': 50, 'min_samples_leaf': 2, 'min_samples_split': 10}\n",
      "0.676350 (0.006657) with: {'criterion': 'entropy', 'max_depth': 50, 'min_samples_leaf': 4, 'min_samples_split': 5}\n",
      "0.676427 (0.006645) with: {'criterion': 'entropy', 'max_depth': 50, 'min_samples_leaf': 4, 'min_samples_split': 10}\n",
      "0.690664 (0.001410) with: {'criterion': 'gini', 'max_depth': 3, 'min_samples_leaf': 2, 'min_samples_split': 5}\n",
      "0.690664 (0.001410) with: {'criterion': 'gini', 'max_depth': 3, 'min_samples_leaf': 2, 'min_samples_split': 10}\n",
      "0.690664 (0.001410) with: {'criterion': 'gini', 'max_depth': 3, 'min_samples_leaf': 4, 'min_samples_split': 5}\n",
      "0.690664 (0.001410) with: {'criterion': 'gini', 'max_depth': 3, 'min_samples_leaf': 4, 'min_samples_split': 10}\n",
      "0.668468 (0.008500) with: {'criterion': 'gini', 'max_depth': 5, 'min_samples_leaf': 2, 'min_samples_split': 5}\n",
      "0.668468 (0.008500) with: {'criterion': 'gini', 'max_depth': 5, 'min_samples_leaf': 2, 'min_samples_split': 10}\n",
      "0.668468 (0.008500) with: {'criterion': 'gini', 'max_depth': 5, 'min_samples_leaf': 4, 'min_samples_split': 5}\n",
      "0.668468 (0.008500) with: {'criterion': 'gini', 'max_depth': 5, 'min_samples_leaf': 4, 'min_samples_split': 10}\n",
      "0.675907 (0.006272) with: {'criterion': 'gini', 'max_depth': 10, 'min_samples_leaf': 2, 'min_samples_split': 5}\n",
      "0.675933 (0.006236) with: {'criterion': 'gini', 'max_depth': 10, 'min_samples_leaf': 2, 'min_samples_split': 10}\n",
      "0.676128 (0.006502) with: {'criterion': 'gini', 'max_depth': 10, 'min_samples_leaf': 4, 'min_samples_split': 5}\n",
      "0.676154 (0.006466) with: {'criterion': 'gini', 'max_depth': 10, 'min_samples_leaf': 4, 'min_samples_split': 10}\n",
      "0.676103 (0.006460) with: {'criterion': 'gini', 'max_depth': 50, 'min_samples_leaf': 2, 'min_samples_split': 5}\n",
      "0.676179 (0.006455) with: {'criterion': 'gini', 'max_depth': 50, 'min_samples_leaf': 2, 'min_samples_split': 10}\n",
      "0.676350 (0.006657) with: {'criterion': 'gini', 'max_depth': 50, 'min_samples_leaf': 4, 'min_samples_split': 5}\n",
      "0.676427 (0.006645) with: {'criterion': 'gini', 'max_depth': 50, 'min_samples_leaf': 4, 'min_samples_split': 10}\n"
     ]
    }
   ],
   "source": [
    "#SUMMARY OF THE RESULTS OF THE GRIDSEARCH AND IDENTIFICATION WITH BEST PARAMETERS\n",
    "print('***GRIDSEARCH RESULTS***')\n",
    "\n",
    "print(\"Best score: %f using %s\" % (gs.best_score_, gs.best_params_))\n",
    "means = gs.cv_results_['mean_test_score']\n",
    "stds = gs.cv_results_['std_test_score']\n",
    "params = gs.cv_results_['params']\n",
    "\n",
    "for mean, stdev, param in zip(means, stds, params):\n",
    "    print(\"%f (%f) with: %r\" % (mean, stdev, param))"
   ]
  },
  {
   "cell_type": "code",
   "execution_count": 80,
   "metadata": {},
   "outputs": [],
   "source": [
    "#WE TEST THE MODEL ON TEST SET \n",
    "best_model = gs.best_estimator_\n",
    "y_pred = best_model.predict(X_test)\n",
    "\n",
    "y_pred_train = best_model.predict(X_train)"
   ]
  },
  {
   "cell_type": "code",
   "execution_count": 81,
   "metadata": {},
   "outputs": [
    {
     "data": {
      "text/plain": [
       "array([1, 1, 0, ..., 1, 1, 0], dtype=int64)"
      ]
     },
     "execution_count": 81,
     "metadata": {},
     "output_type": "execute_result"
    }
   ],
   "source": [
    "#Prediction on the TEST SET of our model\n",
    "y_pred"
   ]
  },
  {
   "cell_type": "code",
   "execution_count": 82,
   "metadata": {},
   "outputs": [
    {
     "name": "stdout",
     "output_type": "stream",
     "text": [
      "***RESULTS ON TRAIN SET***\n",
      "f1_score:  0.6912335276120806\n",
      "--\n",
      "***RESULTS ON TEST SET***\n",
      "f1_score:  0.6910213738621327\n"
     ]
    }
   ],
   "source": [
    "#WE EVALUATE PREDICTION (F1 SCORE IS COMPUTED FOR BOTH THE TRAIN AND THE TEST SET)\n",
    "from sklearn import metrics\n",
    "\n",
    "print('***RESULTS ON TRAIN SET***')\n",
    "print(\"f1_score: \", metrics.f1_score(y_train, y_pred_train))\n",
    "print(\"--\")\n",
    "print('***RESULTS ON TEST SET***')\n",
    "print(\"f1_score: \", metrics.f1_score(y_test, y_pred))"
   ]
  },
  {
   "cell_type": "code",
   "execution_count": 83,
   "metadata": {},
   "outputs": [
    {
     "name": "stdout",
     "output_type": "stream",
     "text": [
      "              precision    recall  f1-score   support\n",
      "\n",
      "           0       0.93      0.68      0.79     21001\n",
      "           1       0.57      0.89      0.69      9705\n",
      "\n",
      "    accuracy                           0.75     30706\n",
      "   macro avg       0.75      0.79      0.74     30706\n",
      "weighted avg       0.81      0.75      0.76     30706\n",
      "\n"
     ]
    }
   ],
   "source": [
    "#WE COMPUTE SOME FURTHER METRICS (in particular the F1 for both 0 and 1)\n",
    "from sklearn.metrics import classification_report\n",
    "print(classification_report(y_test, y_pred))"
   ]
  },
  {
   "cell_type": "code",
   "execution_count": 84,
   "metadata": {},
   "outputs": [
    {
     "name": "stdout",
     "output_type": "stream",
     "text": [
      "[[14385  6616]\n",
      " [ 1089  8616]]\n"
     ]
    }
   ],
   "source": [
    "#CONFUSION MATRIX\n",
    "\n",
    "from sklearn.metrics import confusion_matrix\n",
    "print(confusion_matrix(y_test, y_pred))"
   ]
  },
  {
   "cell_type": "code",
   "execution_count": 85,
   "metadata": {},
   "outputs": [
    {
     "data": {
      "image/png": "[encoded data removed]",
      "text/plain": [
       "<Figure size 432x288 with 1 Axes>"
      ]
     },
     "metadata": {},
     "output_type": "display_data"
    }
   ],
   "source": [
    "# Confusion matrix (heatmap version)\n",
    "sns.heatmap(confusion_matrix(y_test, y_pred), annot=True, fmt='d', cmap=\"Reds\", cbar=False);\n"
   ]
  },
  {
   "cell_type": "code",
   "execution_count": 86,
   "metadata": {},
   "outputs": [
    {
     "data": {
      "image/png": "[encoded data removed]",
      "text/plain": [
       "<Figure size 432x288 with 1 Axes>"
      ]
     },
     "metadata": {},
     "output_type": "display_data"
    },
    {
     "name": "stdout",
     "output_type": "stream",
     "text": [
      "AUC: 0.83\n"
     ]
    }
   ],
   "source": [
    "#ROC CURVE\n",
    "\n",
    "from sklearn import metrics\n",
    "model = DecisionTreeClassifier(criterion='entropy', max_depth=4, min_samples_leaf=4, min_samples_split=5)\n",
    "model.fit(X_train, y_train)\n",
    "\n",
    "y_pred = model.predict(X_test)\n",
    "y_probs = model.predict_proba(X_test) #predict_proba gives the probabilities for the target (0 and 1 in your case) \n",
    "\n",
    "fpr, tpr, thresholds=metrics.roc_curve(y_test,  y_probs[:,1])\n",
    "\n",
    "import matplotlib.pyplot as plt\n",
    "\n",
    "plt.plot(fpr, tpr, label='ROC')\n",
    "plt.plot([0, 1], [0, 1], color='darkblue', linestyle='--')\n",
    "plt.xlabel('False Positive Rate')\n",
    "plt.ylabel('True Positive Rate')\n",
    "plt.title('Receiver Operating Characteristic (ROC) Curve')\n",
    "plt.legend()\n",
    "plt.show()\n",
    "\n",
    "auc = metrics.roc_auc_score(y_test, y_probs[:,1])\n",
    "print('AUC: %.2f' % auc)"
   ]
  },
  {
   "cell_type": "code",
   "execution_count": 87,
   "metadata": {},
   "outputs": [
    {
     "data": {
      "text/plain": [
       "['Prev_Insured_binary',\n",
       " 'Vehicle_damage_binary',\n",
       " '< 1 Year',\n",
       " '> 2 Years',\n",
       " 'Age_scaled']"
      ]
     },
     "execution_count": 87,
     "metadata": {},
     "output_type": "execute_result"
    }
   ],
   "source": [
    "#COLUMNS OF THE DATASET\n",
    "\n",
    "X_train.columns.tolist()"
   ]
  },
  {
   "cell_type": "code",
   "execution_count": 88,
   "metadata": {},
   "outputs": [
    {
     "name": "stdout",
     "output_type": "stream",
     "text": [
      "|--- Prev_Insured_binary <= 0.50\n",
      "|   |--- Vehicle_damage_binary <= 0.50\n",
      "|   |   |--- Age_scaled <= 0.59\n",
      "|   |   |   |--- < 1 Year <= 0.50\n",
      "|   |   |   |   |--- class: 0\n",
      "|   |   |   |--- < 1 Year >  0.50\n",
      "|   |   |   |   |--- class: 0\n",
      "|   |   |--- Age_scaled >  0.59\n",
      "|   |   |   |--- Age_scaled <= 0.81\n",
      "|   |   |   |   |--- class: 0\n",
      "|   |   |   |--- Age_scaled >  0.81\n",
      "|   |   |   |   |--- class: 0\n",
      "|   |--- Vehicle_damage_binary >  0.50\n",
      "|   |   |--- Age_scaled <= 0.10\n",
      "|   |   |   |--- Age_scaled <= 0.02\n",
      "|   |   |   |   |--- class: 0\n",
      "|   |   |   |--- Age_scaled >  0.02\n",
      "|   |   |   |   |--- class: 0\n",
      "|   |   |--- Age_scaled >  0.10\n",
      "|   |   |   |--- Age_scaled <= 0.58\n",
      "|   |   |   |   |--- class: 1\n",
      "|   |   |   |--- Age_scaled >  0.58\n",
      "|   |   |   |   |--- class: 0\n",
      "|--- Prev_Insured_binary >  0.50\n",
      "|   |--- Vehicle_damage_binary <= 0.50\n",
      "|   |   |--- Age_scaled <= 0.62\n",
      "|   |   |   |--- Age_scaled <= 0.19\n",
      "|   |   |   |   |--- class: 0\n",
      "|   |   |   |--- Age_scaled >  0.19\n",
      "|   |   |   |   |--- class: 0\n",
      "|   |   |--- Age_scaled >  0.62\n",
      "|   |   |   |--- class: 0\n",
      "|   |--- Vehicle_damage_binary >  0.50\n",
      "|   |   |--- Age_scaled <= 0.45\n",
      "|   |   |   |--- < 1 Year <= 0.50\n",
      "|   |   |   |   |--- class: 0\n",
      "|   |   |   |--- < 1 Year >  0.50\n",
      "|   |   |   |   |--- class: 0\n",
      "|   |   |--- Age_scaled >  0.45\n",
      "|   |   |   |--- Age_scaled <= 0.53\n",
      "|   |   |   |   |--- class: 0\n",
      "|   |   |   |--- Age_scaled >  0.53\n",
      "|   |   |   |   |--- class: 0\n",
      "\n"
     ]
    }
   ],
   "source": [
    "#GRAPHICAL REPRESENTATION OF THE TREE\n",
    "\n",
    "from sklearn import tree\n",
    "r = tree.export_text(model,feature_names=X_test.columns.tolist())\n",
    "print(r)"
   ]
  },
  {
   "cell_type": "code",
   "execution_count": null,
   "metadata": {},
   "outputs": [],
   "source": []
  }
 ],
 "metadata": {
  "kernelspec": {
   "display_name": "Python 3",
   "language": "python",
   "name": "python3"
  },
  "language_info": {
   "codemirror_mode": {
    "name": "ipython",
    "version": 3
   },
   "file_extension": ".py",
   "mimetype": "text/x-python",
   "name": "python",
   "nbconvert_exporter": "python",
   "pygments_lexer": "ipython3",
   "version": "3.8.3"
  }
 },
 "nbformat": 4,
 "nbformat_minor": 4
}
